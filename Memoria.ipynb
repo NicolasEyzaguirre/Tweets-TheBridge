{
  "nbformat": 4,
  "nbformat_minor": 0,
  "metadata": {
    "colab": {
      "provenance": []
    },
    "kernelspec": {
      "name": "python3",
      "display_name": "Python 3"
    },
    "language_info": {
      "name": "python"
    }
  },
  "cells": [
    {
      "cell_type": "code",
      "execution_count": 304,
      "metadata": {
        "id": "8ZJ3uLlbQ4j3"
      },
      "outputs": [],
      "source": [
        "#Exploracion de datos\n",
        "import pandas as pd\n",
        "import numpy as np\n",
        "from google.colab import files\n",
        "\n",
        "#\n",
        "import re\n",
        "from langdetect import detect\n",
        "from collections import defaultdict\n",
        "from wordcloud import STOPWORDS\n",
        "from nltk.corpus import stopwords\n",
        "\n",
        "# Graficos\n",
        "import plotly.graph_objects as go\n",
        "import plotly.offline as py\n",
        "import matplotlib.pyplot as plt\n",
        "import seaborn as sns\n",
        "from plotly import tools\n",
        "sns.set_style('whitegrid')\n",
        "plt.style.use(\"fivethirtyeight\")\n",
        "\n",
        "\n",
        "#Modelo\n",
        "import nltk\n",
        "from nltk.sentiment.vader import SentimentIntensityAnalyzer\n",
        "from nltk.tokenize import word_tokenize\n",
        "from textblob import TextBlob\n",
        "from vaderSentiment.vaderSentiment import SentimentIntensityAnalyzer\n",
        "\n",
        "\n",
        "\n"
      ]
    },
    {
      "cell_type": "code",
      "source": [
        "load=files.upload()"
      ],
      "metadata": {
        "colab": {
          "base_uri": "https://localhost:8080/",
          "height": 73
        },
        "id": "xUKcjH-0TWSN",
        "outputId": "68a53057-3c39-4676-b039-442e083c31e1"
      },
      "execution_count": 246,
      "outputs": [
        {
          "output_type": "display_data",
          "data": {
            "text/plain": [
              "<IPython.core.display.HTML object>"
            ],
            "text/html": [
              "\n",
              "     <input type=\"file\" id=\"files-60741e2f-ea8c-4324-8db5-b8207ed9f46f\" name=\"files[]\" multiple disabled\n",
              "        style=\"border:none\" />\n",
              "     <output id=\"result-60741e2f-ea8c-4324-8db5-b8207ed9f46f\">\n",
              "      Upload widget is only available when the cell has been executed in the\n",
              "      current browser session. Please rerun this cell to enable.\n",
              "      </output>\n",
              "      <script>// Copyright 2017 Google LLC\n",
              "//\n",
              "// Licensed under the Apache License, Version 2.0 (the \"License\");\n",
              "// you may not use this file except in compliance with the License.\n",
              "// You may obtain a copy of the License at\n",
              "//\n",
              "//      http://www.apache.org/licenses/LICENSE-2.0\n",
              "//\n",
              "// Unless required by applicable law or agreed to in writing, software\n",
              "// distributed under the License is distributed on an \"AS IS\" BASIS,\n",
              "// WITHOUT WARRANTIES OR CONDITIONS OF ANY KIND, either express or implied.\n",
              "// See the License for the specific language governing permissions and\n",
              "// limitations under the License.\n",
              "\n",
              "/**\n",
              " * @fileoverview Helpers for google.colab Python module.\n",
              " */\n",
              "(function(scope) {\n",
              "function span(text, styleAttributes = {}) {\n",
              "  const element = document.createElement('span');\n",
              "  element.textContent = text;\n",
              "  for (const key of Object.keys(styleAttributes)) {\n",
              "    element.style[key] = styleAttributes[key];\n",
              "  }\n",
              "  return element;\n",
              "}\n",
              "\n",
              "// Max number of bytes which will be uploaded at a time.\n",
              "const MAX_PAYLOAD_SIZE = 100 * 1024;\n",
              "\n",
              "function _uploadFiles(inputId, outputId) {\n",
              "  const steps = uploadFilesStep(inputId, outputId);\n",
              "  const outputElement = document.getElementById(outputId);\n",
              "  // Cache steps on the outputElement to make it available for the next call\n",
              "  // to uploadFilesContinue from Python.\n",
              "  outputElement.steps = steps;\n",
              "\n",
              "  return _uploadFilesContinue(outputId);\n",
              "}\n",
              "\n",
              "// This is roughly an async generator (not supported in the browser yet),\n",
              "// where there are multiple asynchronous steps and the Python side is going\n",
              "// to poll for completion of each step.\n",
              "// This uses a Promise to block the python side on completion of each step,\n",
              "// then passes the result of the previous step as the input to the next step.\n",
              "function _uploadFilesContinue(outputId) {\n",
              "  const outputElement = document.getElementById(outputId);\n",
              "  const steps = outputElement.steps;\n",
              "\n",
              "  const next = steps.next(outputElement.lastPromiseValue);\n",
              "  return Promise.resolve(next.value.promise).then((value) => {\n",
              "    // Cache the last promise value to make it available to the next\n",
              "    // step of the generator.\n",
              "    outputElement.lastPromiseValue = value;\n",
              "    return next.value.response;\n",
              "  });\n",
              "}\n",
              "\n",
              "/**\n",
              " * Generator function which is called between each async step of the upload\n",
              " * process.\n",
              " * @param {string} inputId Element ID of the input file picker element.\n",
              " * @param {string} outputId Element ID of the output display.\n",
              " * @return {!Iterable<!Object>} Iterable of next steps.\n",
              " */\n",
              "function* uploadFilesStep(inputId, outputId) {\n",
              "  const inputElement = document.getElementById(inputId);\n",
              "  inputElement.disabled = false;\n",
              "\n",
              "  const outputElement = document.getElementById(outputId);\n",
              "  outputElement.innerHTML = '';\n",
              "\n",
              "  const pickedPromise = new Promise((resolve) => {\n",
              "    inputElement.addEventListener('change', (e) => {\n",
              "      resolve(e.target.files);\n",
              "    });\n",
              "  });\n",
              "\n",
              "  const cancel = document.createElement('button');\n",
              "  inputElement.parentElement.appendChild(cancel);\n",
              "  cancel.textContent = 'Cancel upload';\n",
              "  const cancelPromise = new Promise((resolve) => {\n",
              "    cancel.onclick = () => {\n",
              "      resolve(null);\n",
              "    };\n",
              "  });\n",
              "\n",
              "  // Wait for the user to pick the files.\n",
              "  const files = yield {\n",
              "    promise: Promise.race([pickedPromise, cancelPromise]),\n",
              "    response: {\n",
              "      action: 'starting',\n",
              "    }\n",
              "  };\n",
              "\n",
              "  cancel.remove();\n",
              "\n",
              "  // Disable the input element since further picks are not allowed.\n",
              "  inputElement.disabled = true;\n",
              "\n",
              "  if (!files) {\n",
              "    return {\n",
              "      response: {\n",
              "        action: 'complete',\n",
              "      }\n",
              "    };\n",
              "  }\n",
              "\n",
              "  for (const file of files) {\n",
              "    const li = document.createElement('li');\n",
              "    li.append(span(file.name, {fontWeight: 'bold'}));\n",
              "    li.append(span(\n",
              "        `(${file.type || 'n/a'}) - ${file.size} bytes, ` +\n",
              "        `last modified: ${\n",
              "            file.lastModifiedDate ? file.lastModifiedDate.toLocaleDateString() :\n",
              "                                    'n/a'} - `));\n",
              "    const percent = span('0% done');\n",
              "    li.appendChild(percent);\n",
              "\n",
              "    outputElement.appendChild(li);\n",
              "\n",
              "    const fileDataPromise = new Promise((resolve) => {\n",
              "      const reader = new FileReader();\n",
              "      reader.onload = (e) => {\n",
              "        resolve(e.target.result);\n",
              "      };\n",
              "      reader.readAsArrayBuffer(file);\n",
              "    });\n",
              "    // Wait for the data to be ready.\n",
              "    let fileData = yield {\n",
              "      promise: fileDataPromise,\n",
              "      response: {\n",
              "        action: 'continue',\n",
              "      }\n",
              "    };\n",
              "\n",
              "    // Use a chunked sending to avoid message size limits. See b/62115660.\n",
              "    let position = 0;\n",
              "    do {\n",
              "      const length = Math.min(fileData.byteLength - position, MAX_PAYLOAD_SIZE);\n",
              "      const chunk = new Uint8Array(fileData, position, length);\n",
              "      position += length;\n",
              "\n",
              "      const base64 = btoa(String.fromCharCode.apply(null, chunk));\n",
              "      yield {\n",
              "        response: {\n",
              "          action: 'append',\n",
              "          file: file.name,\n",
              "          data: base64,\n",
              "        },\n",
              "      };\n",
              "\n",
              "      let percentDone = fileData.byteLength === 0 ?\n",
              "          100 :\n",
              "          Math.round((position / fileData.byteLength) * 100);\n",
              "      percent.textContent = `${percentDone}% done`;\n",
              "\n",
              "    } while (position < fileData.byteLength);\n",
              "  }\n",
              "\n",
              "  // All done.\n",
              "  yield {\n",
              "    response: {\n",
              "      action: 'complete',\n",
              "    }\n",
              "  };\n",
              "}\n",
              "\n",
              "scope.google = scope.google || {};\n",
              "scope.google.colab = scope.google.colab || {};\n",
              "scope.google.colab._files = {\n",
              "  _uploadFiles,\n",
              "  _uploadFilesContinue,\n",
              "};\n",
              "})(self);\n",
              "</script> "
            ]
          },
          "metadata": {}
        },
        {
          "output_type": "stream",
          "name": "stdout",
          "text": [
            "Saving tweets_TheBridge.csv to tweets_TheBridge (1).csv\n"
          ]
        }
      ]
    },
    {
      "cell_type": "code",
      "source": [
        "pd.set_option('display.max_colwidth', None)"
      ],
      "metadata": {
        "id": "Rix67EKhc_AY"
      },
      "execution_count": 14,
      "outputs": []
    },
    {
      "cell_type": "code",
      "source": [
        "df = pd.read_csv(\"tweets_TheBridge.csv\", index_col='date_time')\n",
        "df.head()"
      ],
      "metadata": {
        "colab": {
          "base_uri": "https://localhost:8080/",
          "height": 594
        },
        "id": "EQXM5mtjVX-t",
        "outputId": "ce02e75d-6640-4cfc-c830-8deaf85ad4a9"
      },
      "execution_count": 336,
      "outputs": [
        {
          "output_type": "execute_result",
          "data": {
            "text/plain": [
              "                                      id  \\\n",
              "date_time                                  \n",
              "2022-11-22 08:01:31   702077405045899264   \n",
              "2022-11-22 08:05:10   702077405045899264   \n",
              "2022-11-22 08:18:42   783248945761910788   \n",
              "2022-11-23 10:13:36  1162694149956603904   \n",
              "2022-11-24 12:15:15   823470817963032576   \n",
              "\n",
              "                                                                                                                                                                                                                                                                                                                                text  \\\n",
              "date_time                                                                                                                                                                                                                                                                                                                              \n",
              "2022-11-22 08:01:31                                          Aprende hoy las profesiones del futuro, ¡inscríbete en el #BBKBootcamp ⏩ https://t.co/uJcCKObkPz\\n\\nJunto con @TheBridge_Tech podrás aprender sobre Desarrollo Web Full Stack, Data Science, Ciberseguridad y Diseño de producto digital UX UI. https://t.co/wdbmRphsAx   \n",
              "2022-11-22 08:05:10                         Ikasi gaur etorkizuneko lanbideak, izena eman #BBKBootcamp -ean ⏩ https://t.co/xvm6ekbcMQ\\n\\n@TheBridge_Tech -ekin batera,  Full Stack Web Garapena, Data Science, Zibersegurtasuna eta UX UI produktu digitalaren diseinuari buruz ikasteko aukera izango duzu. https://t.co/oxEOX35Osa   \n",
              "2022-11-22 08:18:42   Acelerando juntos el #talentodigital en España. El próximo 24 de noviembre, nuestro #CEO Juan Zamora presentará Hopla! en las instalaciones de .@TheBridge_Tech a las 17:30h. Contaremos quiénes somos, qué hacemos y cómo desarrollar una #carrerarofesional fructífera con nosotros. https://t.co/Sw9EUswIQ2   \n",
              "2022-11-23 10:13:36  ¡Ven a conocer los BBK bootcamps powered by @TheBridge_Tech! @BBK_eus \\n\\nPróximo Open Day🤗\\n📅1 dic\\n⏰18.30\\n📍 @BBK_Kuna, Urazurrutia Kalea 3, Bilbao\\n\\n¡Lánzate a por una carrera digital!\\n \\n🎟Entradas https://t.co/NBgXWjSYcE\\n\\n#uxui #ciber #desarrollowebfullstack #datascience https://t.co/KFsgFfom5B   \n",
              "2022-11-24 12:15:15                     🔵Acelera tu carrera digital con #BBKBootcamps.\\n\\nGracias a la colaboración entre @BBK_eus y @TheBridge_Tech podrás formarte con los mejores profesionales para lograr un trabajo con proyección.\\n\\n🔗Elige tu curso https://t.co/RxICpzj9N6\\n\\n#ux #developers #ciberseguridad #datascience   \n",
              "\n",
              "                     impression_count  like_count  quote_count  reply_count  \\\n",
              "date_time                                                                     \n",
              "2022-11-22 08:01:31                 0           2            0            0   \n",
              "2022-11-22 08:05:10                 0           2            0            0   \n",
              "2022-11-22 08:18:42                 0           3            0            1   \n",
              "2022-11-23 10:13:36                 0           3            0            0   \n",
              "2022-11-24 12:15:15                 0           4            0            0   \n",
              "\n",
              "                     retweet_count                         name  \\\n",
              "date_time                                                         \n",
              "2022-11-22 08:01:31              2  Fundación BBK | Obra Social   \n",
              "2022-11-22 08:05:10              1  Fundación BBK | Obra Social   \n",
              "2022-11-22 08:18:42              1              Hopla! Software   \n",
              "2022-11-23 10:13:36              4                   The Bridge   \n",
              "2022-11-24 12:15:15              3                  BBK network   \n",
              "\n",
              "                           username    Month  \n",
              "date_time                                     \n",
              "2022-11-22 08:01:31         BBK_eus  2022-11  \n",
              "2022-11-22 08:05:10         BBK_eus  2022-11  \n",
              "2022-11-22 08:18:42   HoplaSoftware  2022-11  \n",
              "2022-11-23 10:13:36  TheBridge_Tech  2022-11  \n",
              "2022-11-24 12:15:15      BBKnetwork  2022-11  "
            ],
            "text/html": [
              "\n",
              "  <div id=\"df-7937d28c-deec-4869-bfec-c127000d5499\">\n",
              "    <div class=\"colab-df-container\">\n",
              "      <div>\n",
              "<style scoped>\n",
              "    .dataframe tbody tr th:only-of-type {\n",
              "        vertical-align: middle;\n",
              "    }\n",
              "\n",
              "    .dataframe tbody tr th {\n",
              "        vertical-align: top;\n",
              "    }\n",
              "\n",
              "    .dataframe thead th {\n",
              "        text-align: right;\n",
              "    }\n",
              "</style>\n",
              "<table border=\"1\" class=\"dataframe\">\n",
              "  <thead>\n",
              "    <tr style=\"text-align: right;\">\n",
              "      <th></th>\n",
              "      <th>id</th>\n",
              "      <th>text</th>\n",
              "      <th>impression_count</th>\n",
              "      <th>like_count</th>\n",
              "      <th>quote_count</th>\n",
              "      <th>reply_count</th>\n",
              "      <th>retweet_count</th>\n",
              "      <th>name</th>\n",
              "      <th>username</th>\n",
              "      <th>Month</th>\n",
              "    </tr>\n",
              "    <tr>\n",
              "      <th>date_time</th>\n",
              "      <th></th>\n",
              "      <th></th>\n",
              "      <th></th>\n",
              "      <th></th>\n",
              "      <th></th>\n",
              "      <th></th>\n",
              "      <th></th>\n",
              "      <th></th>\n",
              "      <th></th>\n",
              "      <th></th>\n",
              "    </tr>\n",
              "  </thead>\n",
              "  <tbody>\n",
              "    <tr>\n",
              "      <th>2022-11-22 08:01:31</th>\n",
              "      <td>702077405045899264</td>\n",
              "      <td>Aprende hoy las profesiones del futuro, ¡inscríbete en el #BBKBootcamp ⏩ https://t.co/uJcCKObkPz\\n\\nJunto con @TheBridge_Tech podrás aprender sobre Desarrollo Web Full Stack, Data Science, Ciberseguridad y Diseño de producto digital UX UI. https://t.co/wdbmRphsAx</td>\n",
              "      <td>0</td>\n",
              "      <td>2</td>\n",
              "      <td>0</td>\n",
              "      <td>0</td>\n",
              "      <td>2</td>\n",
              "      <td>Fundación BBK | Obra Social</td>\n",
              "      <td>BBK_eus</td>\n",
              "      <td>2022-11</td>\n",
              "    </tr>\n",
              "    <tr>\n",
              "      <th>2022-11-22 08:05:10</th>\n",
              "      <td>702077405045899264</td>\n",
              "      <td>Ikasi gaur etorkizuneko lanbideak, izena eman #BBKBootcamp -ean ⏩ https://t.co/xvm6ekbcMQ\\n\\n@TheBridge_Tech -ekin batera,  Full Stack Web Garapena, Data Science, Zibersegurtasuna eta UX UI produktu digitalaren diseinuari buruz ikasteko aukera izango duzu. https://t.co/oxEOX35Osa</td>\n",
              "      <td>0</td>\n",
              "      <td>2</td>\n",
              "      <td>0</td>\n",
              "      <td>0</td>\n",
              "      <td>1</td>\n",
              "      <td>Fundación BBK | Obra Social</td>\n",
              "      <td>BBK_eus</td>\n",
              "      <td>2022-11</td>\n",
              "    </tr>\n",
              "    <tr>\n",
              "      <th>2022-11-22 08:18:42</th>\n",
              "      <td>783248945761910788</td>\n",
              "      <td>Acelerando juntos el #talentodigital en España. El próximo 24 de noviembre, nuestro #CEO Juan Zamora presentará Hopla! en las instalaciones de .@TheBridge_Tech a las 17:30h. Contaremos quiénes somos, qué hacemos y cómo desarrollar una #carrerarofesional fructífera con nosotros. https://t.co/Sw9EUswIQ2</td>\n",
              "      <td>0</td>\n",
              "      <td>3</td>\n",
              "      <td>0</td>\n",
              "      <td>1</td>\n",
              "      <td>1</td>\n",
              "      <td>Hopla! Software</td>\n",
              "      <td>HoplaSoftware</td>\n",
              "      <td>2022-11</td>\n",
              "    </tr>\n",
              "    <tr>\n",
              "      <th>2022-11-23 10:13:36</th>\n",
              "      <td>1162694149956603904</td>\n",
              "      <td>¡Ven a conocer los BBK bootcamps powered by @TheBridge_Tech! @BBK_eus \\n\\nPróximo Open Day🤗\\n📅1 dic\\n⏰18.30\\n📍 @BBK_Kuna, Urazurrutia Kalea 3, Bilbao\\n\\n¡Lánzate a por una carrera digital!\\n \\n🎟Entradas https://t.co/NBgXWjSYcE\\n\\n#uxui #ciber #desarrollowebfullstack #datascience https://t.co/KFsgFfom5B</td>\n",
              "      <td>0</td>\n",
              "      <td>3</td>\n",
              "      <td>0</td>\n",
              "      <td>0</td>\n",
              "      <td>4</td>\n",
              "      <td>The Bridge</td>\n",
              "      <td>TheBridge_Tech</td>\n",
              "      <td>2022-11</td>\n",
              "    </tr>\n",
              "    <tr>\n",
              "      <th>2022-11-24 12:15:15</th>\n",
              "      <td>823470817963032576</td>\n",
              "      <td>🔵Acelera tu carrera digital con #BBKBootcamps.\\n\\nGracias a la colaboración entre @BBK_eus y @TheBridge_Tech podrás formarte con los mejores profesionales para lograr un trabajo con proyección.\\n\\n🔗Elige tu curso https://t.co/RxICpzj9N6\\n\\n#ux #developers #ciberseguridad #datascience</td>\n",
              "      <td>0</td>\n",
              "      <td>4</td>\n",
              "      <td>0</td>\n",
              "      <td>0</td>\n",
              "      <td>3</td>\n",
              "      <td>BBK network</td>\n",
              "      <td>BBKnetwork</td>\n",
              "      <td>2022-11</td>\n",
              "    </tr>\n",
              "  </tbody>\n",
              "</table>\n",
              "</div>\n",
              "      <button class=\"colab-df-convert\" onclick=\"convertToInteractive('df-7937d28c-deec-4869-bfec-c127000d5499')\"\n",
              "              title=\"Convert this dataframe to an interactive table.\"\n",
              "              style=\"display:none;\">\n",
              "        \n",
              "  <svg xmlns=\"http://www.w3.org/2000/svg\" height=\"24px\"viewBox=\"0 0 24 24\"\n",
              "       width=\"24px\">\n",
              "    <path d=\"M0 0h24v24H0V0z\" fill=\"none\"/>\n",
              "    <path d=\"M18.56 5.44l.94 2.06.94-2.06 2.06-.94-2.06-.94-.94-2.06-.94 2.06-2.06.94zm-11 1L8.5 8.5l.94-2.06 2.06-.94-2.06-.94L8.5 2.5l-.94 2.06-2.06.94zm10 10l.94 2.06.94-2.06 2.06-.94-2.06-.94-.94-2.06-.94 2.06-2.06.94z\"/><path d=\"M17.41 7.96l-1.37-1.37c-.4-.4-.92-.59-1.43-.59-.52 0-1.04.2-1.43.59L10.3 9.45l-7.72 7.72c-.78.78-.78 2.05 0 2.83L4 21.41c.39.39.9.59 1.41.59.51 0 1.02-.2 1.41-.59l7.78-7.78 2.81-2.81c.8-.78.8-2.07 0-2.86zM5.41 20L4 18.59l7.72-7.72 1.47 1.35L5.41 20z\"/>\n",
              "  </svg>\n",
              "      </button>\n",
              "      \n",
              "  <style>\n",
              "    .colab-df-container {\n",
              "      display:flex;\n",
              "      flex-wrap:wrap;\n",
              "      gap: 12px;\n",
              "    }\n",
              "\n",
              "    .colab-df-convert {\n",
              "      background-color: #E8F0FE;\n",
              "      border: none;\n",
              "      border-radius: 50%;\n",
              "      cursor: pointer;\n",
              "      display: none;\n",
              "      fill: #1967D2;\n",
              "      height: 32px;\n",
              "      padding: 0 0 0 0;\n",
              "      width: 32px;\n",
              "    }\n",
              "\n",
              "    .colab-df-convert:hover {\n",
              "      background-color: #E2EBFA;\n",
              "      box-shadow: 0px 1px 2px rgba(60, 64, 67, 0.3), 0px 1px 3px 1px rgba(60, 64, 67, 0.15);\n",
              "      fill: #174EA6;\n",
              "    }\n",
              "\n",
              "    [theme=dark] .colab-df-convert {\n",
              "      background-color: #3B4455;\n",
              "      fill: #D2E3FC;\n",
              "    }\n",
              "\n",
              "    [theme=dark] .colab-df-convert:hover {\n",
              "      background-color: #434B5C;\n",
              "      box-shadow: 0px 1px 3px 1px rgba(0, 0, 0, 0.15);\n",
              "      filter: drop-shadow(0px 1px 2px rgba(0, 0, 0, 0.3));\n",
              "      fill: #FFFFFF;\n",
              "    }\n",
              "  </style>\n",
              "\n",
              "      <script>\n",
              "        const buttonEl =\n",
              "          document.querySelector('#df-7937d28c-deec-4869-bfec-c127000d5499 button.colab-df-convert');\n",
              "        buttonEl.style.display =\n",
              "          google.colab.kernel.accessAllowed ? 'block' : 'none';\n",
              "\n",
              "        async function convertToInteractive(key) {\n",
              "          const element = document.querySelector('#df-7937d28c-deec-4869-bfec-c127000d5499');\n",
              "          const dataTable =\n",
              "            await google.colab.kernel.invokeFunction('convertToInteractive',\n",
              "                                                     [key], {});\n",
              "          if (!dataTable) return;\n",
              "\n",
              "          const docLinkHtml = 'Like what you see? Visit the ' +\n",
              "            '<a target=\"_blank\" href=https://colab.research.google.com/notebooks/data_table.ipynb>data table notebook</a>'\n",
              "            + ' to learn more about interactive tables.';\n",
              "          element.innerHTML = '';\n",
              "          dataTable['output_type'] = 'display_data';\n",
              "          await google.colab.output.renderOutput(dataTable, element);\n",
              "          const docLink = document.createElement('div');\n",
              "          docLink.innerHTML = docLinkHtml;\n",
              "          element.appendChild(docLink);\n",
              "        }\n",
              "      </script>\n",
              "    </div>\n",
              "  </div>\n",
              "  "
            ]
          },
          "metadata": {},
          "execution_count": 336
        }
      ]
    },
    {
      "cell_type": "markdown",
      "source": [
        "## Trabajo con idioma, enlaces, menciones, etc."
      ],
      "metadata": {
        "id": "QmoltBAIlZse"
      }
    },
    {
      "cell_type": "code",
      "source": [
        "signos = re.compile(\"(\\.)|(\\;)|(\\:)|(\\!)|(\\?)|(\\¿)|(\\,)|(\\\")|(\\()|(\\))|(\\[)|(\\])|(\\d+)|(http\\S+)|(@\\S+)|(#\\S+)|(\\n)|(⏩)|(🔗)|(✌️)|(🙏🏻)|(👇)|(📅)|(⏰)|(📍)|(🎟)|(🔵)|(☕️)|(🥐)|(🤝)|(⤵️)|(👏)|(ℹ️➕)|(🔙)|(👉)|(🍻)|(🗣)|(🤗)|(🤔)|(€)\")\n",
        "# se eliminan aquellas puntuaciones y emojis que puedan existir en el tweet\n",
        "def signs_tweets(tweet):\n",
        "    return signos.sub('', tweet.lower())\n",
        "\n",
        "df['text_change'] = df['text'].apply(signs_tweets)"
      ],
      "metadata": {
        "id": "maj2bOcXevVy"
      },
      "execution_count": 342,
      "outputs": []
    },
    {
      "cell_type": "code",
      "source": [
        "#se analiza el idioma que es cada tweet para facilitar el proceso de analisis de sentimiento\n",
        "def detectar_idioma(texto):\n",
        "    try:\n",
        "        return detect(texto)\n",
        "    except:\n",
        "        return 'Desconocido'\n",
        "\n",
        "df['lenguage'] = df['text_change'].apply(detectar_idioma)"
      ],
      "metadata": {
        "id": "HoiEcImxYqrk"
      },
      "execution_count": 343,
      "outputs": []
    },
    {
      "cell_type": "code",
      "source": [
        "df['lenguage'].unique()"
      ],
      "metadata": {
        "colab": {
          "base_uri": "https://localhost:8080/"
        },
        "id": "fTITMUMiaZ29",
        "outputId": "6be06812-d239-415c-f2b7-b964e50bb9a0"
      },
      "execution_count": 346,
      "outputs": [
        {
          "output_type": "execute_result",
          "data": {
            "text/plain": [
              "array(['es', 'ek', 'en', 'Desconocido'], dtype=object)"
            ]
          },
          "metadata": {},
          "execution_count": 346
        }
      ]
    },
    {
      "cell_type": "code",
      "source": [
        "df.loc[df['lenguage'].isin(['nl','id','sl']),'lenguage']='ek'\n",
        "df.loc['2023-01-18 18:06:30','lenguage']='es'\n",
        "df.loc[df['lenguage'].isin(['et']),'lenguage']='en'\n",
        "df.loc[df['lenguage'].isin(['it', 'pt', 'fr']), 'lenguage'] = 'es'"
      ],
      "metadata": {
        "id": "Q9vEsfKdnW0N"
      },
      "execution_count": 345,
      "outputs": []
    },
    {
      "cell_type": "code",
      "source": [
        "# Stopwords comando que elimina aquellas palabras muy repetidas en cada idioma\n",
        "nltk.download('stopwords')\n",
        "# Español\n",
        "spanish_stop_words = stopwords.words('spanish')\n",
        "\n",
        "def remove_stop_words(corpus):\n",
        "    removed_stop_words = []\n",
        "    for review in corpus:\n",
        "        \n",
        "        removed_stop_words.append(\n",
        "            ' '.join([word for word in review.split() if word not in spanish_stop_words])\n",
        "        )\n",
        "        \n",
        "    return removed_stop_words\n",
        "df.loc[df['lenguage'].isin(['es']),'text_change']=remove_stop_words(df.loc[df['lenguage'].isin(['es']),'text_change'])\n",
        "\n",
        "# Ingles\n",
        "nltk.download('stopwords')\n",
        "\n",
        "english_stop_words = stopwords.words('english')\n",
        "\n",
        "def remove_stop_words(corpus):\n",
        "    removed_stop_words = []\n",
        "    for review in corpus:\n",
        "        \n",
        "        removed_stop_words.append(\n",
        "            ' '.join([word for word in review.split() if word not in english_stop_words])\n",
        "        )\n",
        "        \n",
        "    return removed_stop_words\n",
        "df.loc[df['lenguage'].isin(['en']),'text_change']=remove_stop_words(df.loc[df['lenguage'].isin(['en']),'text_change'])\n",
        "# No encontre stopwords para el caso del euskera"
      ],
      "metadata": {
        "colab": {
          "base_uri": "https://localhost:8080/"
        },
        "id": "XY0ToawP7lLw",
        "outputId": "068f7547-859a-4759-b581-4c16173f17bc"
      },
      "execution_count": 348,
      "outputs": [
        {
          "output_type": "stream",
          "name": "stderr",
          "text": [
            "[nltk_data] Downloading package stopwords to /root/nltk_data...\n",
            "[nltk_data]   Package stopwords is already up-to-date!\n",
            "[nltk_data] Downloading package stopwords to /root/nltk_data...\n",
            "[nltk_data]   Package stopwords is already up-to-date!\n"
          ]
        }
      ]
    },
    {
      "cell_type": "code",
      "source": [
        "nltk.download('punkt')\n",
        "#Contar cuantas palabras hay en cada tweet\n",
        "def count_words(text):\n",
        "    tokens = word_tokenize(text)\n",
        "    count = len(tokens)\n",
        "    return count\n",
        "\n",
        "df['word_count'] = df['text'].apply(count_words)\n",
        "\n",
        "df.head()"
      ],
      "metadata": {
        "colab": {
          "base_uri": "https://localhost:8080/",
          "height": 1000
        },
        "id": "vMMb5ixH4zfZ",
        "outputId": "8fa0e119-ad04-48cc-f49c-eb5efbff820a"
      },
      "execution_count": 349,
      "outputs": [
        {
          "output_type": "stream",
          "name": "stderr",
          "text": [
            "[nltk_data] Downloading package punkt to /root/nltk_data...\n",
            "[nltk_data]   Package punkt is already up-to-date!\n"
          ]
        },
        {
          "output_type": "execute_result",
          "data": {
            "text/plain": [
              "                                      id  \\\n",
              "date_time                                  \n",
              "2022-11-22 08:01:31   702077405045899264   \n",
              "2022-11-22 08:05:10   702077405045899264   \n",
              "2022-11-22 08:18:42   783248945761910788   \n",
              "2022-11-23 10:13:36  1162694149956603904   \n",
              "2022-11-24 12:15:15   823470817963032576   \n",
              "\n",
              "                                                                                                                                                                                                                                                                                                                                text  \\\n",
              "date_time                                                                                                                                                                                                                                                                                                                              \n",
              "2022-11-22 08:01:31                                          Aprende hoy las profesiones del futuro, ¡inscríbete en el #BBKBootcamp ⏩ https://t.co/uJcCKObkPz\\n\\nJunto con @TheBridge_Tech podrás aprender sobre Desarrollo Web Full Stack, Data Science, Ciberseguridad y Diseño de producto digital UX UI. https://t.co/wdbmRphsAx   \n",
              "2022-11-22 08:05:10                         Ikasi gaur etorkizuneko lanbideak, izena eman #BBKBootcamp -ean ⏩ https://t.co/xvm6ekbcMQ\\n\\n@TheBridge_Tech -ekin batera,  Full Stack Web Garapena, Data Science, Zibersegurtasuna eta UX UI produktu digitalaren diseinuari buruz ikasteko aukera izango duzu. https://t.co/oxEOX35Osa   \n",
              "2022-11-22 08:18:42   Acelerando juntos el #talentodigital en España. El próximo 24 de noviembre, nuestro #CEO Juan Zamora presentará Hopla! en las instalaciones de .@TheBridge_Tech a las 17:30h. Contaremos quiénes somos, qué hacemos y cómo desarrollar una #carrerarofesional fructífera con nosotros. https://t.co/Sw9EUswIQ2   \n",
              "2022-11-23 10:13:36  ¡Ven a conocer los BBK bootcamps powered by @TheBridge_Tech! @BBK_eus \\n\\nPróximo Open Day🤗\\n📅1 dic\\n⏰18.30\\n📍 @BBK_Kuna, Urazurrutia Kalea 3, Bilbao\\n\\n¡Lánzate a por una carrera digital!\\n \\n🎟Entradas https://t.co/NBgXWjSYcE\\n\\n#uxui #ciber #desarrollowebfullstack #datascience https://t.co/KFsgFfom5B   \n",
              "2022-11-24 12:15:15                     🔵Acelera tu carrera digital con #BBKBootcamps.\\n\\nGracias a la colaboración entre @BBK_eus y @TheBridge_Tech podrás formarte con los mejores profesionales para lograr un trabajo con proyección.\\n\\n🔗Elige tu curso https://t.co/RxICpzj9N6\\n\\n#ux #developers #ciberseguridad #datascience   \n",
              "\n",
              "                     impression_count  like_count  quote_count  reply_count  \\\n",
              "date_time                                                                     \n",
              "2022-11-22 08:01:31                 0           2            0            0   \n",
              "2022-11-22 08:05:10                 0           2            0            0   \n",
              "2022-11-22 08:18:42                 0           3            0            1   \n",
              "2022-11-23 10:13:36                 0           3            0            0   \n",
              "2022-11-24 12:15:15                 0           4            0            0   \n",
              "\n",
              "                     retweet_count                         name  \\\n",
              "date_time                                                         \n",
              "2022-11-22 08:01:31              2  Fundación BBK | Obra Social   \n",
              "2022-11-22 08:05:10              1  Fundación BBK | Obra Social   \n",
              "2022-11-22 08:18:42              1              Hopla! Software   \n",
              "2022-11-23 10:13:36              4                   The Bridge   \n",
              "2022-11-24 12:15:15              3                  BBK network   \n",
              "\n",
              "                           username    Month  \\\n",
              "date_time                                      \n",
              "2022-11-22 08:01:31         BBK_eus  2022-11   \n",
              "2022-11-22 08:05:10         BBK_eus  2022-11   \n",
              "2022-11-22 08:18:42   HoplaSoftware  2022-11   \n",
              "2022-11-23 10:13:36  TheBridge_Tech  2022-11   \n",
              "2022-11-24 12:15:15      BBKnetwork  2022-11   \n",
              "\n",
              "                                                                                                                                                                                                               text_change  \\\n",
              "date_time                                                                                                                                                                                                                    \n",
              "2022-11-22 08:01:31                                                   aprende hoy profesiones futuro ¡inscríbete junto podrás aprender desarrollo web full stack data science ciberseguridad diseño producto digital ux ui   \n",
              "2022-11-22 08:05:10  ikasi gaur etorkizuneko lanbideak izena eman  -ean   -ekin batera  full stack web garapena data science zibersegurtasuna eta ux ui produktu digitalaren diseinuari buruz ikasteko aukera izango duzu    \n",
              "2022-11-22 08:18:42                                                         acelerando juntos españa próximo noviembre juan zamora presentará hopla instalaciones h contaremos quiénes hacemos cómo desarrollar fructífera   \n",
              "2022-11-23 10:13:36                                                                                   ¡ven conocer bbk bootcamps powered by próximo open day dic urazurrutia kalea bilbao¡lánzate carrera digital entradas   \n",
              "2022-11-24 12:15:15                                                                                acelera carrera digital gracias colaboración podrás formarte mejores profesionales lograr trabajo proyecciónelige curso   \n",
              "\n",
              "                    lenguage  word_count  \n",
              "date_time                                 \n",
              "2022-11-22 08:01:31       es          43  \n",
              "2022-11-22 08:05:10       ek          43  \n",
              "2022-11-22 08:18:42       es          52  \n",
              "2022-11-23 10:13:36       es          50  \n",
              "2022-11-24 12:15:15       es          45  "
            ],
            "text/html": [
              "\n",
              "  <div id=\"df-a702d3f1-1ed0-4ca8-964a-8b1a6169690a\">\n",
              "    <div class=\"colab-df-container\">\n",
              "      <div>\n",
              "<style scoped>\n",
              "    .dataframe tbody tr th:only-of-type {\n",
              "        vertical-align: middle;\n",
              "    }\n",
              "\n",
              "    .dataframe tbody tr th {\n",
              "        vertical-align: top;\n",
              "    }\n",
              "\n",
              "    .dataframe thead th {\n",
              "        text-align: right;\n",
              "    }\n",
              "</style>\n",
              "<table border=\"1\" class=\"dataframe\">\n",
              "  <thead>\n",
              "    <tr style=\"text-align: right;\">\n",
              "      <th></th>\n",
              "      <th>id</th>\n",
              "      <th>text</th>\n",
              "      <th>impression_count</th>\n",
              "      <th>like_count</th>\n",
              "      <th>quote_count</th>\n",
              "      <th>reply_count</th>\n",
              "      <th>retweet_count</th>\n",
              "      <th>name</th>\n",
              "      <th>username</th>\n",
              "      <th>Month</th>\n",
              "      <th>text_change</th>\n",
              "      <th>lenguage</th>\n",
              "      <th>word_count</th>\n",
              "    </tr>\n",
              "    <tr>\n",
              "      <th>date_time</th>\n",
              "      <th></th>\n",
              "      <th></th>\n",
              "      <th></th>\n",
              "      <th></th>\n",
              "      <th></th>\n",
              "      <th></th>\n",
              "      <th></th>\n",
              "      <th></th>\n",
              "      <th></th>\n",
              "      <th></th>\n",
              "      <th></th>\n",
              "      <th></th>\n",
              "      <th></th>\n",
              "    </tr>\n",
              "  </thead>\n",
              "  <tbody>\n",
              "    <tr>\n",
              "      <th>2022-11-22 08:01:31</th>\n",
              "      <td>702077405045899264</td>\n",
              "      <td>Aprende hoy las profesiones del futuro, ¡inscríbete en el #BBKBootcamp ⏩ https://t.co/uJcCKObkPz\\n\\nJunto con @TheBridge_Tech podrás aprender sobre Desarrollo Web Full Stack, Data Science, Ciberseguridad y Diseño de producto digital UX UI. https://t.co/wdbmRphsAx</td>\n",
              "      <td>0</td>\n",
              "      <td>2</td>\n",
              "      <td>0</td>\n",
              "      <td>0</td>\n",
              "      <td>2</td>\n",
              "      <td>Fundación BBK | Obra Social</td>\n",
              "      <td>BBK_eus</td>\n",
              "      <td>2022-11</td>\n",
              "      <td>aprende hoy profesiones futuro ¡inscríbete junto podrás aprender desarrollo web full stack data science ciberseguridad diseño producto digital ux ui</td>\n",
              "      <td>es</td>\n",
              "      <td>43</td>\n",
              "    </tr>\n",
              "    <tr>\n",
              "      <th>2022-11-22 08:05:10</th>\n",
              "      <td>702077405045899264</td>\n",
              "      <td>Ikasi gaur etorkizuneko lanbideak, izena eman #BBKBootcamp -ean ⏩ https://t.co/xvm6ekbcMQ\\n\\n@TheBridge_Tech -ekin batera,  Full Stack Web Garapena, Data Science, Zibersegurtasuna eta UX UI produktu digitalaren diseinuari buruz ikasteko aukera izango duzu. https://t.co/oxEOX35Osa</td>\n",
              "      <td>0</td>\n",
              "      <td>2</td>\n",
              "      <td>0</td>\n",
              "      <td>0</td>\n",
              "      <td>1</td>\n",
              "      <td>Fundación BBK | Obra Social</td>\n",
              "      <td>BBK_eus</td>\n",
              "      <td>2022-11</td>\n",
              "      <td>ikasi gaur etorkizuneko lanbideak izena eman  -ean   -ekin batera  full stack web garapena data science zibersegurtasuna eta ux ui produktu digitalaren diseinuari buruz ikasteko aukera izango duzu</td>\n",
              "      <td>ek</td>\n",
              "      <td>43</td>\n",
              "    </tr>\n",
              "    <tr>\n",
              "      <th>2022-11-22 08:18:42</th>\n",
              "      <td>783248945761910788</td>\n",
              "      <td>Acelerando juntos el #talentodigital en España. El próximo 24 de noviembre, nuestro #CEO Juan Zamora presentará Hopla! en las instalaciones de .@TheBridge_Tech a las 17:30h. Contaremos quiénes somos, qué hacemos y cómo desarrollar una #carrerarofesional fructífera con nosotros. https://t.co/Sw9EUswIQ2</td>\n",
              "      <td>0</td>\n",
              "      <td>3</td>\n",
              "      <td>0</td>\n",
              "      <td>1</td>\n",
              "      <td>1</td>\n",
              "      <td>Hopla! Software</td>\n",
              "      <td>HoplaSoftware</td>\n",
              "      <td>2022-11</td>\n",
              "      <td>acelerando juntos españa próximo noviembre juan zamora presentará hopla instalaciones h contaremos quiénes hacemos cómo desarrollar fructífera</td>\n",
              "      <td>es</td>\n",
              "      <td>52</td>\n",
              "    </tr>\n",
              "    <tr>\n",
              "      <th>2022-11-23 10:13:36</th>\n",
              "      <td>1162694149956603904</td>\n",
              "      <td>¡Ven a conocer los BBK bootcamps powered by @TheBridge_Tech! @BBK_eus \\n\\nPróximo Open Day🤗\\n📅1 dic\\n⏰18.30\\n📍 @BBK_Kuna, Urazurrutia Kalea 3, Bilbao\\n\\n¡Lánzate a por una carrera digital!\\n \\n🎟Entradas https://t.co/NBgXWjSYcE\\n\\n#uxui #ciber #desarrollowebfullstack #datascience https://t.co/KFsgFfom5B</td>\n",
              "      <td>0</td>\n",
              "      <td>3</td>\n",
              "      <td>0</td>\n",
              "      <td>0</td>\n",
              "      <td>4</td>\n",
              "      <td>The Bridge</td>\n",
              "      <td>TheBridge_Tech</td>\n",
              "      <td>2022-11</td>\n",
              "      <td>¡ven conocer bbk bootcamps powered by próximo open day dic urazurrutia kalea bilbao¡lánzate carrera digital entradas</td>\n",
              "      <td>es</td>\n",
              "      <td>50</td>\n",
              "    </tr>\n",
              "    <tr>\n",
              "      <th>2022-11-24 12:15:15</th>\n",
              "      <td>823470817963032576</td>\n",
              "      <td>🔵Acelera tu carrera digital con #BBKBootcamps.\\n\\nGracias a la colaboración entre @BBK_eus y @TheBridge_Tech podrás formarte con los mejores profesionales para lograr un trabajo con proyección.\\n\\n🔗Elige tu curso https://t.co/RxICpzj9N6\\n\\n#ux #developers #ciberseguridad #datascience</td>\n",
              "      <td>0</td>\n",
              "      <td>4</td>\n",
              "      <td>0</td>\n",
              "      <td>0</td>\n",
              "      <td>3</td>\n",
              "      <td>BBK network</td>\n",
              "      <td>BBKnetwork</td>\n",
              "      <td>2022-11</td>\n",
              "      <td>acelera carrera digital gracias colaboración podrás formarte mejores profesionales lograr trabajo proyecciónelige curso</td>\n",
              "      <td>es</td>\n",
              "      <td>45</td>\n",
              "    </tr>\n",
              "  </tbody>\n",
              "</table>\n",
              "</div>\n",
              "      <button class=\"colab-df-convert\" onclick=\"convertToInteractive('df-a702d3f1-1ed0-4ca8-964a-8b1a6169690a')\"\n",
              "              title=\"Convert this dataframe to an interactive table.\"\n",
              "              style=\"display:none;\">\n",
              "        \n",
              "  <svg xmlns=\"http://www.w3.org/2000/svg\" height=\"24px\"viewBox=\"0 0 24 24\"\n",
              "       width=\"24px\">\n",
              "    <path d=\"M0 0h24v24H0V0z\" fill=\"none\"/>\n",
              "    <path d=\"M18.56 5.44l.94 2.06.94-2.06 2.06-.94-2.06-.94-.94-2.06-.94 2.06-2.06.94zm-11 1L8.5 8.5l.94-2.06 2.06-.94-2.06-.94L8.5 2.5l-.94 2.06-2.06.94zm10 10l.94 2.06.94-2.06 2.06-.94-2.06-.94-.94-2.06-.94 2.06-2.06.94z\"/><path d=\"M17.41 7.96l-1.37-1.37c-.4-.4-.92-.59-1.43-.59-.52 0-1.04.2-1.43.59L10.3 9.45l-7.72 7.72c-.78.78-.78 2.05 0 2.83L4 21.41c.39.39.9.59 1.41.59.51 0 1.02-.2 1.41-.59l7.78-7.78 2.81-2.81c.8-.78.8-2.07 0-2.86zM5.41 20L4 18.59l7.72-7.72 1.47 1.35L5.41 20z\"/>\n",
              "  </svg>\n",
              "      </button>\n",
              "      \n",
              "  <style>\n",
              "    .colab-df-container {\n",
              "      display:flex;\n",
              "      flex-wrap:wrap;\n",
              "      gap: 12px;\n",
              "    }\n",
              "\n",
              "    .colab-df-convert {\n",
              "      background-color: #E8F0FE;\n",
              "      border: none;\n",
              "      border-radius: 50%;\n",
              "      cursor: pointer;\n",
              "      display: none;\n",
              "      fill: #1967D2;\n",
              "      height: 32px;\n",
              "      padding: 0 0 0 0;\n",
              "      width: 32px;\n",
              "    }\n",
              "\n",
              "    .colab-df-convert:hover {\n",
              "      background-color: #E2EBFA;\n",
              "      box-shadow: 0px 1px 2px rgba(60, 64, 67, 0.3), 0px 1px 3px 1px rgba(60, 64, 67, 0.15);\n",
              "      fill: #174EA6;\n",
              "    }\n",
              "\n",
              "    [theme=dark] .colab-df-convert {\n",
              "      background-color: #3B4455;\n",
              "      fill: #D2E3FC;\n",
              "    }\n",
              "\n",
              "    [theme=dark] .colab-df-convert:hover {\n",
              "      background-color: #434B5C;\n",
              "      box-shadow: 0px 1px 3px 1px rgba(0, 0, 0, 0.15);\n",
              "      filter: drop-shadow(0px 1px 2px rgba(0, 0, 0, 0.3));\n",
              "      fill: #FFFFFF;\n",
              "    }\n",
              "  </style>\n",
              "\n",
              "      <script>\n",
              "        const buttonEl =\n",
              "          document.querySelector('#df-a702d3f1-1ed0-4ca8-964a-8b1a6169690a button.colab-df-convert');\n",
              "        buttonEl.style.display =\n",
              "          google.colab.kernel.accessAllowed ? 'block' : 'none';\n",
              "\n",
              "        async function convertToInteractive(key) {\n",
              "          const element = document.querySelector('#df-a702d3f1-1ed0-4ca8-964a-8b1a6169690a');\n",
              "          const dataTable =\n",
              "            await google.colab.kernel.invokeFunction('convertToInteractive',\n",
              "                                                     [key], {});\n",
              "          if (!dataTable) return;\n",
              "\n",
              "          const docLinkHtml = 'Like what you see? Visit the ' +\n",
              "            '<a target=\"_blank\" href=https://colab.research.google.com/notebooks/data_table.ipynb>data table notebook</a>'\n",
              "            + ' to learn more about interactive tables.';\n",
              "          element.innerHTML = '';\n",
              "          dataTable['output_type'] = 'display_data';\n",
              "          await google.colab.output.renderOutput(dataTable, element);\n",
              "          const docLink = document.createElement('div');\n",
              "          docLink.innerHTML = docLinkHtml;\n",
              "          element.appendChild(docLink);\n",
              "        }\n",
              "      </script>\n",
              "    </div>\n",
              "  </div>\n",
              "  "
            ]
          },
          "metadata": {},
          "execution_count": 349
        }
      ]
    },
    {
      "cell_type": "markdown",
      "source": [
        "#### DataFrame a modelar\n",
        "Una vez terminado de trabajar con todo el Dataframe nos quedamos con varias columnas, la mas importante siendo `text_change` que nos facilitara el modelado via `Textblob` ya que ha perdido mucho del ruido que podria haber dificultado antes"
      ],
      "metadata": {
        "id": "F67uKStZzZLI"
      }
    },
    {
      "cell_type": "markdown",
      "source": [
        "## Graficos\n"
      ],
      "metadata": {
        "id": "JE10ys3DWyGz"
      }
    },
    {
      "cell_type": "code",
      "source": [
        "df_best_tweet=df.sort_values(by=['impression_count','like_count','quote_count','reply_count','retweet_count'], ascending=[False,False,False,False,False])\n",
        "df_best_tweet.iloc[0]\n",
        "# se ordena por importancia del tweet"
      ],
      "metadata": {
        "colab": {
          "base_uri": "https://localhost:8080/"
        },
        "id": "RMQVsKbjoAox",
        "outputId": "5c82685d-53de-4a70-8653-15babb575fdd"
      },
      "execution_count": 355,
      "outputs": [
        {
          "output_type": "execute_result",
          "data": {
            "text/plain": [
              "id                                                                                                                                                                                                                                                                                                                        41545659\n",
              "text                Advanced #Cynefin, Estuarine mapping &amp; EUFG Masterclass (Madrid) https://t.co/H5ZSjbKHAr | Los interesados en la aplicación de las ciencias de la complejidad en nuestro país tendremos la oportunidad de aprender de @snowded en persona el 16/3/23 en la sede de @TheBridge_Tech https://t.co/LavCfgYIht\n",
              "impression_count                                                                                                                                                                                                                                                                                                            225761\n",
              "like_count                                                                                                                                                                                                                                                                                                                     321\n",
              "quote_count                                                                                                                                                                                                                                                                                                                      4\n",
              "reply_count                                                                                                                                                                                                                                                                                                                      7\n",
              "retweet_count                                                                                                                                                                                                                                                                                                                   49\n",
              "name                                                                                                                                                                                                                                                                                                          Mario Lopez de Avila\n",
              "username                                                                                                                                                                                                                                                                                                              nodosenlared\n",
              "Month                                                                                                                                                                                                                                                                                                                      2023-01\n",
              "text_change                                                                                                                                                                        advanced estuarine mapping &amp eufg masterclass madrid | interesados aplicación ciencias complejidad país oportunidad aprender persona // sede\n",
              "lenguage                                                                                                                                                                                                                                                                                                                        es\n",
              "word_count                                                                                                                                                                                                                                                                                                                      53\n",
              "Name: 2023-01-15 13:16:23, dtype: object"
            ]
          },
          "metadata": {},
          "execution_count": 355
        }
      ]
    },
    {
      "cell_type": "markdown",
      "source": [
        "#### Tweet con mayor repercusion\n",
        "Fue hecho por el usuario `Mario Lopez de Avila` con un total de `225 761` visualizaciones y fue hecho el `2023-01-15 13:16:23`.\n",
        "lo curioso que el segundo tweet mas influyente fue hecho por el usuario `Javier G. Recuenco` con un total de `6600` visualizaciones y fue hecho el `2023-01-18 18:06:30`"
      ],
      "metadata": {
        "id": "lxdnGZKv7j9W"
      }
    },
    {
      "cell_type": "code",
      "source": [
        "top_10_usernames = pd.DataFrame(df['username'].value_counts().head(5))\n",
        "top_10_usernames=top_10_usernames.reset_index()\n",
        "top_10_usernames"
      ],
      "metadata": {
        "colab": {
          "base_uri": "https://localhost:8080/",
          "height": 206
        },
        "id": "caSHa28pgwLc",
        "outputId": "cbead81b-0774-45b2-a275-0b85f7394137"
      },
      "execution_count": 312,
      "outputs": [
        {
          "output_type": "execute_result",
          "data": {
            "text/plain": [
              "            index  username\n",
              "0         BBK_eus        22\n",
              "1       jorgegrev        11\n",
              "2  TheBridge_Tech         7\n",
              "3    Metricool_es         5\n",
              "4    nodosenlared         5"
            ],
            "text/html": [
              "\n",
              "  <div id=\"df-e79cd777-ad8c-4b79-b754-f2e1e9777c18\">\n",
              "    <div class=\"colab-df-container\">\n",
              "      <div>\n",
              "<style scoped>\n",
              "    .dataframe tbody tr th:only-of-type {\n",
              "        vertical-align: middle;\n",
              "    }\n",
              "\n",
              "    .dataframe tbody tr th {\n",
              "        vertical-align: top;\n",
              "    }\n",
              "\n",
              "    .dataframe thead th {\n",
              "        text-align: right;\n",
              "    }\n",
              "</style>\n",
              "<table border=\"1\" class=\"dataframe\">\n",
              "  <thead>\n",
              "    <tr style=\"text-align: right;\">\n",
              "      <th></th>\n",
              "      <th>index</th>\n",
              "      <th>username</th>\n",
              "    </tr>\n",
              "  </thead>\n",
              "  <tbody>\n",
              "    <tr>\n",
              "      <th>0</th>\n",
              "      <td>BBK_eus</td>\n",
              "      <td>22</td>\n",
              "    </tr>\n",
              "    <tr>\n",
              "      <th>1</th>\n",
              "      <td>jorgegrev</td>\n",
              "      <td>11</td>\n",
              "    </tr>\n",
              "    <tr>\n",
              "      <th>2</th>\n",
              "      <td>TheBridge_Tech</td>\n",
              "      <td>7</td>\n",
              "    </tr>\n",
              "    <tr>\n",
              "      <th>3</th>\n",
              "      <td>Metricool_es</td>\n",
              "      <td>5</td>\n",
              "    </tr>\n",
              "    <tr>\n",
              "      <th>4</th>\n",
              "      <td>nodosenlared</td>\n",
              "      <td>5</td>\n",
              "    </tr>\n",
              "  </tbody>\n",
              "</table>\n",
              "</div>\n",
              "      <button class=\"colab-df-convert\" onclick=\"convertToInteractive('df-e79cd777-ad8c-4b79-b754-f2e1e9777c18')\"\n",
              "              title=\"Convert this dataframe to an interactive table.\"\n",
              "              style=\"display:none;\">\n",
              "        \n",
              "  <svg xmlns=\"http://www.w3.org/2000/svg\" height=\"24px\"viewBox=\"0 0 24 24\"\n",
              "       width=\"24px\">\n",
              "    <path d=\"M0 0h24v24H0V0z\" fill=\"none\"/>\n",
              "    <path d=\"M18.56 5.44l.94 2.06.94-2.06 2.06-.94-2.06-.94-.94-2.06-.94 2.06-2.06.94zm-11 1L8.5 8.5l.94-2.06 2.06-.94-2.06-.94L8.5 2.5l-.94 2.06-2.06.94zm10 10l.94 2.06.94-2.06 2.06-.94-2.06-.94-.94-2.06-.94 2.06-2.06.94z\"/><path d=\"M17.41 7.96l-1.37-1.37c-.4-.4-.92-.59-1.43-.59-.52 0-1.04.2-1.43.59L10.3 9.45l-7.72 7.72c-.78.78-.78 2.05 0 2.83L4 21.41c.39.39.9.59 1.41.59.51 0 1.02-.2 1.41-.59l7.78-7.78 2.81-2.81c.8-.78.8-2.07 0-2.86zM5.41 20L4 18.59l7.72-7.72 1.47 1.35L5.41 20z\"/>\n",
              "  </svg>\n",
              "      </button>\n",
              "      \n",
              "  <style>\n",
              "    .colab-df-container {\n",
              "      display:flex;\n",
              "      flex-wrap:wrap;\n",
              "      gap: 12px;\n",
              "    }\n",
              "\n",
              "    .colab-df-convert {\n",
              "      background-color: #E8F0FE;\n",
              "      border: none;\n",
              "      border-radius: 50%;\n",
              "      cursor: pointer;\n",
              "      display: none;\n",
              "      fill: #1967D2;\n",
              "      height: 32px;\n",
              "      padding: 0 0 0 0;\n",
              "      width: 32px;\n",
              "    }\n",
              "\n",
              "    .colab-df-convert:hover {\n",
              "      background-color: #E2EBFA;\n",
              "      box-shadow: 0px 1px 2px rgba(60, 64, 67, 0.3), 0px 1px 3px 1px rgba(60, 64, 67, 0.15);\n",
              "      fill: #174EA6;\n",
              "    }\n",
              "\n",
              "    [theme=dark] .colab-df-convert {\n",
              "      background-color: #3B4455;\n",
              "      fill: #D2E3FC;\n",
              "    }\n",
              "\n",
              "    [theme=dark] .colab-df-convert:hover {\n",
              "      background-color: #434B5C;\n",
              "      box-shadow: 0px 1px 3px 1px rgba(0, 0, 0, 0.15);\n",
              "      filter: drop-shadow(0px 1px 2px rgba(0, 0, 0, 0.3));\n",
              "      fill: #FFFFFF;\n",
              "    }\n",
              "  </style>\n",
              "\n",
              "      <script>\n",
              "        const buttonEl =\n",
              "          document.querySelector('#df-e79cd777-ad8c-4b79-b754-f2e1e9777c18 button.colab-df-convert');\n",
              "        buttonEl.style.display =\n",
              "          google.colab.kernel.accessAllowed ? 'block' : 'none';\n",
              "\n",
              "        async function convertToInteractive(key) {\n",
              "          const element = document.querySelector('#df-e79cd777-ad8c-4b79-b754-f2e1e9777c18');\n",
              "          const dataTable =\n",
              "            await google.colab.kernel.invokeFunction('convertToInteractive',\n",
              "                                                     [key], {});\n",
              "          if (!dataTable) return;\n",
              "\n",
              "          const docLinkHtml = 'Like what you see? Visit the ' +\n",
              "            '<a target=\"_blank\" href=https://colab.research.google.com/notebooks/data_table.ipynb>data table notebook</a>'\n",
              "            + ' to learn more about interactive tables.';\n",
              "          element.innerHTML = '';\n",
              "          dataTable['output_type'] = 'display_data';\n",
              "          await google.colab.output.renderOutput(dataTable, element);\n",
              "          const docLink = document.createElement('div');\n",
              "          docLink.innerHTML = docLinkHtml;\n",
              "          element.appendChild(docLink);\n",
              "        }\n",
              "      </script>\n",
              "    </div>\n",
              "  </div>\n",
              "  "
            ]
          },
          "metadata": {},
          "execution_count": 312
        }
      ]
    },
    {
      "cell_type": "code",
      "source": [
        "top_10_usernames.plot(\"index\", \"username\", kind=\"pie\", legend=False, labels=top_10_usernames['index'] )\n",
        "plt.ylabel(\"\")\n",
        "plt.title(\"Usuarios con mas menciones\")"
      ],
      "metadata": {
        "colab": {
          "base_uri": "https://localhost:8080/",
          "height": 303
        },
        "id": "UUZkOvDHiYwO",
        "outputId": "d125b4cf-7a76-4dcc-eb75-c37e6259aa9e"
      },
      "execution_count": 329,
      "outputs": [
        {
          "output_type": "execute_result",
          "data": {
            "text/plain": [
              "Text(0.5, 1.0, 'Usuarios con mas menciones')"
            ]
          },
          "metadata": {},
          "execution_count": 329
        },
        {
          "output_type": "display_data",
          "data": {
            "text/plain": [
              "<Figure size 432x288 with 1 Axes>"
            ],
            "image/png": "[encoded data removed]"
          },
          "metadata": {}
        }
      ]
    },
    {
      "cell_type": "markdown",
      "source": [
        "#### Usuarios con mas menciones\n",
        " Se puede ver que el grafico solo posee 5 usuarios, eso es debido a que solo se escogieron solo aquellos con mayor numero de menciones, siendo el claro ganador el usuario BBK_eus con un total de 22 menciones en el transcurso de estos 5 meses ocupando entre los tops 5 un total del 44%."
      ],
      "metadata": {
        "id": "B9pcrWbQz9CO"
      }
    },
    {
      "cell_type": "code",
      "source": [
        "df_months=pd.DataFrame(df['Month'].value_counts())\n",
        "df_months=df_months.reset_index()\n",
        "\n",
        "plt.bar(df_months['index'],df_months['Month'], color=['red', 'blue', 'blue','blue', 'red'])\n",
        "\n",
        "plt.xlabel(\"Meses\")\n",
        "plt.ylabel(\"Menciones\")\n",
        "plt.title(\"Tweets por mes\")"
      ],
      "metadata": {
        "colab": {
          "base_uri": "https://localhost:8080/",
          "height": 343
        },
        "id": "IDddwBn7d8uA",
        "outputId": "0eb2e6d2-10ab-4330-9b04-e41eda1fd4f7"
      },
      "execution_count": 314,
      "outputs": [
        {
          "output_type": "execute_result",
          "data": {
            "text/plain": [
              "Text(0.5, 1.0, 'Tweets por mes')"
            ]
          },
          "metadata": {},
          "execution_count": 314
        },
        {
          "output_type": "display_data",
          "data": {
            "text/plain": [
              "<Figure size 432x288 with 1 Axes>"
            ],
            "image/png": "[encoded data removed]"
          },
          "metadata": {}
        }
      ]
    },
    {
      "cell_type": "markdown",
      "source": [
        "#### Grafica Tweets por meses\n",
        "Se puede ve que en la gráfica anterior que el mes en el cual hubo mas menciones a `@TheBridge_Tech`fue en enero del 2023 mientras que el mes con menos menciones fue en marzo del mismo año, esto debido que a día de hoy `10/03/2023` aun no termina marzo por lo que no se cuentan con los datos completos del mes"
      ],
      "metadata": {
        "id": "K75G5Y4Lxoh3"
      }
    },
    {
      "cell_type": "code",
      "source": [
        "sns.countplot(x=\"lenguage\", data=df, palette='muted')"
      ],
      "metadata": {
        "colab": {
          "base_uri": "https://localhost:8080/",
          "height": 322
        },
        "id": "hHpRIuWCktF0",
        "outputId": "b3f7c995-fbad-4d7f-dfea-da4ae196bb98"
      },
      "execution_count": 321,
      "outputs": [
        {
          "output_type": "execute_result",
          "data": {
            "text/plain": [
              "<AxesSubplot:xlabel='lenguage', ylabel='count'>"
            ]
          },
          "metadata": {},
          "execution_count": 321
        },
        {
          "output_type": "display_data",
          "data": {
            "text/plain": [
              "<Figure size 432x288 with 1 Axes>"
            ],
            "image/png": "[encoded data removed]"
          },
          "metadata": {}
        }
      ]
    },
    {
      "cell_type": "markdown",
      "source": [
        "#### Grafica por idiomas\n",
        "mientras se trabajaba con los tweets dimos con el hallazgo que los tweets se encontraban en distintos idiomas:\n",
        "- Español\n",
        "- Ingles\n",
        "- Euskera\n",
        "\n",
        "Nos obligo a tomar un enfoque distinto a la hora del analisis de sentimiento. El \"Idioma\" desconocido son todos aquellos tweets que solo se conformaban por menciones y nada de texto.\n"
      ],
      "metadata": {
        "id": "cX7pclvSybjr"
      }
    },
    {
      "cell_type": "code",
      "source": [
        "def generate_ngrams(text, n_gram=1):\n",
        "    token = [token for token in text.lower().split(\" \") if token != \"\" if token not in STOPWORDS]\n",
        "    ngrams = zip(*[token[i:] for i in range(n_gram)])\n",
        "    return [\" \".join(ngram) for ngram in ngrams]\n",
        "    \n",
        "def horizontal_bar_chart(df, color):\n",
        "    trace = go.Bar(\n",
        "        y=df[\"word\"].values[::-1],\n",
        "        x=df[\"wordcount\"].values[::-1],\n",
        "        showlegend=False,\n",
        "        orientation = 'h',\n",
        "        marker=dict(\n",
        "            color=color,\n",
        "        ),\n",
        "    )\n",
        "    return trace "
      ],
      "metadata": {
        "id": "6cNv0WxS4QIP"
      },
      "execution_count": 332,
      "outputs": []
    },
    {
      "cell_type": "code",
      "source": [
        "freq_dict = defaultdict(int)\n",
        "for sent in df.loc[df['lenguage'].isin(['en']),'text_change']:\n",
        "    for word in generate_ngrams(sent):\n",
        "        freq_dict[word] += 1\n",
        "fd_sorted = pd.DataFrame(sorted(freq_dict.items(), key=lambda x: x[1])[::-1])\n",
        "fd_sorted.columns = [\"word\", \"wordcount\"]\n",
        "trace0 = horizontal_bar_chart(fd_sorted.head(50), 'blue')\n",
        "\n",
        "freq_dict = defaultdict(int)\n",
        "for sent in df.loc[df['lenguage'].isin(['es']),'text_change']:\n",
        "    for word in generate_ngrams(sent):\n",
        "        freq_dict[word] += 1\n",
        "fd_sorted = pd.DataFrame(sorted(freq_dict.items(), key=lambda x: x[1])[::-1])\n",
        "fd_sorted.columns = [\"word\", \"wordcount\"]\n",
        "trace1 = horizontal_bar_chart(fd_sorted.head(50), 'red')\n",
        "\n",
        "freq_dict = defaultdict(int)\n",
        "for sent in df.loc[df['lenguage'].isin(['ek']),'text_change']:\n",
        "    for word in generate_ngrams(sent):\n",
        "        freq_dict[word] += 1\n",
        "fd_sorted = pd.DataFrame(sorted(freq_dict.items(), key=lambda x: x[1])[::-1])\n",
        "fd_sorted.columns = [\"word\", \"wordcount\"]\n",
        "trace2 = horizontal_bar_chart(fd_sorted.head(50), 'green')\n",
        "\n",
        "\n",
        "\n",
        "fig = tools.make_subplots(rows=1, cols=3, vertical_spacing=0.04,\n",
        "                          subplot_titles=[\"palabaras mas usadas ingles\", \n",
        "                                          \"palabaras mas usadas español\",\n",
        "                                          \"palabaras mas usadas euskera\"])\n",
        "fig.append_trace(trace0, 1, 1)\n",
        "fig.append_trace(trace1, 1, 2)\n",
        "fig.append_trace(trace2, 1, 3)\n",
        "fig['layout'].update(height=1200, width=1100, paper_bgcolor='rgb(233,233,233)', title=\"Word Count Plots\")\n",
        "py.iplot(fig, filename='word-plots')"
      ],
      "metadata": {
        "colab": {
          "base_uri": "https://localhost:8080/",
          "height": 1000
        },
        "id": "sLT2Zciu_LuQ",
        "outputId": "664ab069-68ef-4c1d-a059-091e52c3183f"
      },
      "execution_count": 350,
      "outputs": [
        {
          "output_type": "stream",
          "name": "stderr",
          "text": [
            "/usr/local/lib/python3.9/dist-packages/plotly/tools.py:461: DeprecationWarning:\n",
            "\n",
            "plotly.tools.make_subplots is deprecated, please use plotly.subplots.make_subplots instead\n",
            "\n"
          ]
        },
        {
          "output_type": "display_data",
          "data": {
            "text/html": [
              "<html>\n",
              "<head><meta charset=\"utf-8\" /></head>\n",
              "<body>\n",
              "    <div>            <script src=\"https://cdnjs.cloudflare.com/ajax/libs/mathjax/2.7.5/MathJax.js?config=TeX-AMS-MML_SVG\"></script><script type=\"text/javascript\">if (window.MathJax) {MathJax.Hub.Config({SVG: {font: \"STIX-Web\"}});}</script>                <script type=\"text/javascript\">window.PlotlyConfig = {MathJaxConfig: 'local'};</script>\n",
              "        <script src=\"https://cdn.plot.ly/plotly-2.8.3.min.js\"></script>                <div id=\"f549e00a-2d89-4cd1-adf3-8e23c409878c\" class=\"plotly-graph-div\" style=\"height:1200px; width:1100px;\"></div>            <script type=\"text/javascript\">                                    window.PLOTLYENV=window.PLOTLYENV || {};                                    if (document.getElementById(\"f549e00a-2d89-4cd1-adf3-8e23c409878c\")) {                    Plotly.newPlot(                        \"f549e00a-2d89-4cd1-adf3-8e23c409878c\",                        [{\"marker\":{\"color\":\"blue\"},\"orientation\":\"h\",\"showlegend\":false,\"x\":[1,1,1,1,1,1,1,1,1,1,1,1,1,1,1,1,1,1,1,1,1,1,1,1,1,1,1,1,1,1,1,1,1,1,1,1,1,1,1,1,1,1,1,1,1,1,1,2,2,2],\"xaxis\":\"x\",\"y\":[\"management\",\"advisory\",\"board\",\"meetup\",\"one\",\"reasons\",\"got\",\"community\",\"built\",\"countless\",\"communities/initiatives\",\"brought\",\"tons\",\"new\",\"folks\",\"ecosystem\",\"currently\",\"rocking\",\"bootcamp\",\"helping\",\"unemployed\",\"people\",\"learn\",\"tech\",\"check\",\"books\",\"related\",\"post\",\"please\",\"share\",\"masterclass\",\"en\",\"data\",\"science\",\"los\",\"bootcamps\",\"powered\",\"product\",\"marketing\",\"specialist\",\"onlinethe\",\"bridge\",\"digital\",\"talent\",\"accelerator\",\"madrid\",\"-\",\"|\",\"bbk\",\"de\"],\"yaxis\":\"y\",\"type\":\"bar\"},{\"marker\":{\"color\":\"red\"},\"orientation\":\"h\",\"showlegend\":false,\"x\":[4,4,5,5,5,5,5,5,5,5,5,6,6,6,6,6,6,6,6,6,6,6,6,6,6,7,7,7,7,7,7,7,8,8,8,8,8,9,9,9,9,9,10,10,12,13,14,16,18,28],\"xaxis\":\"x2\",\"y\":[\"cps\",\"cosa\",\"diciembre\",\"\\u27a1\",\"campus\",\"digitales\",\"|\",\"lozano\",\"ayer\",\"ser\",\"saber\",\"h\",\"conocer\",\"open\",\"day\",\"organiza\",\"sector\",\"evento\",\"mundo\",\"interesante\",\"enero\",\"impartir\",\"formaci\\u00f3n\",\"puede\",\"comunidad\",\"profesiones\",\"web\",\"sede\",\"quieres\",\"tecnol\\u00f3gico\",\"info\",\"vemos\",\"madrid\",\"edici\\u00f3n\",\"jornada\",\"meetup\",\"si\",\"dise\\u00f1o\",\"c\\u00f3mo\",\"colaboraci\\u00f3n\",\"jueves\",\"nueva\",\"carrera\",\"presentaci\\u00f3n\",\"hoy\",\"desarrollo\",\"gracias\",\"bbk\",\"bootcamps\",\"digital\"],\"yaxis\":\"y2\",\"type\":\"bar\"},{\"marker\":{\"color\":\"green\"},\"orientation\":\"h\",\"showlegend\":false,\"x\":[1,1,1,1,1,1,1,1,1,1,1,1,1,1,1,1,1,1,1,1,2,2,2,2,2,2,2,2,2,2,2,2,2,2,2,2,2,2,2,2,3,3,3,3,3,3,4,5,5,9],\"xaxis\":\"x3\",\"y\":[\"hobeto\\u2026\",\"atzo\",\"oso\",\"jardunaldi\",\"interesgarria\",\"izan\",\"genuen\",\"-rekin\",\"elkarlanean\",\"egindako\",\"bootcamp-en\",\"berria\",\"aurkezteko\",\"ekitaldian\",\"mila\",\"esker\",\"aurkezpenera\",\"etorri\",\"zineten\",\"guztioi\",\"ikasi\",\"gaur\",\"etorkizuneko\",\"lanbideak\",\"berri\",\"dugu\",\"digu\",\"zer\",\"bootcamp\",\"metodologia\",\"ikastaroak\",\"garapenerako\",\"datuen\",\"zientziarako\",\"zibersegurtasunerako\",\"ux/ui\",\"produktuen\",\"diseinurakonora\",\"sarasolak\",\"behar\",\"-ean\",\"full\",\"stack\",\"web\",\"edizio\",\"-ak\",\"-en\",\"bbk\",\"dira\",\"eta\"],\"yaxis\":\"y3\",\"type\":\"bar\"}],                        {\"annotations\":[{\"font\":{\"size\":16},\"showarrow\":false,\"text\":\"palabaras mas usadas ingles\",\"x\":0.14444444444444446,\"xanchor\":\"center\",\"xref\":\"paper\",\"y\":1.0,\"yanchor\":\"bottom\",\"yref\":\"paper\"},{\"font\":{\"size\":16},\"showarrow\":false,\"text\":\"palabaras mas usadas espa\\u00f1ol\",\"x\":0.5,\"xanchor\":\"center\",\"xref\":\"paper\",\"y\":1.0,\"yanchor\":\"bottom\",\"yref\":\"paper\"},{\"font\":{\"size\":16},\"showarrow\":false,\"text\":\"palabaras mas usadas euskera\",\"x\":0.8555555555555556,\"xanchor\":\"center\",\"xref\":\"paper\",\"y\":1.0,\"yanchor\":\"bottom\",\"yref\":\"paper\"}],\"height\":1200,\"paper_bgcolor\":\"rgb(233,233,233)\",\"template\":{\"data\":{\"barpolar\":[{\"marker\":{\"line\":{\"color\":\"#E5ECF6\",\"width\":0.5},\"pattern\":{\"fillmode\":\"overlay\",\"size\":10,\"solidity\":0.2}},\"type\":\"barpolar\"}],\"bar\":[{\"error_x\":{\"color\":\"#2a3f5f\"},\"error_y\":{\"color\":\"#2a3f5f\"},\"marker\":{\"line\":{\"color\":\"#E5ECF6\",\"width\":0.5},\"pattern\":{\"fillmode\":\"overlay\",\"size\":10,\"solidity\":0.2}},\"type\":\"bar\"}],\"carpet\":[{\"aaxis\":{\"endlinecolor\":\"#2a3f5f\",\"gridcolor\":\"white\",\"linecolor\":\"white\",\"minorgridcolor\":\"white\",\"startlinecolor\":\"#2a3f5f\"},\"baxis\":{\"endlinecolor\":\"#2a3f5f\",\"gridcolor\":\"white\",\"linecolor\":\"white\",\"minorgridcolor\":\"white\",\"startlinecolor\":\"#2a3f5f\"},\"type\":\"carpet\"}],\"choropleth\":[{\"colorbar\":{\"outlinewidth\":0,\"ticks\":\"\"},\"type\":\"choropleth\"}],\"contourcarpet\":[{\"colorbar\":{\"outlinewidth\":0,\"ticks\":\"\"},\"type\":\"contourcarpet\"}],\"contour\":[{\"colorbar\":{\"outlinewidth\":0,\"ticks\":\"\"},\"colorscale\":[[0.0,\"#0d0887\"],[0.1111111111111111,\"#46039f\"],[0.2222222222222222,\"#7201a8\"],[0.3333333333333333,\"#9c179e\"],[0.4444444444444444,\"#bd3786\"],[0.5555555555555556,\"#d8576b\"],[0.6666666666666666,\"#ed7953\"],[0.7777777777777778,\"#fb9f3a\"],[0.8888888888888888,\"#fdca26\"],[1.0,\"#f0f921\"]],\"type\":\"contour\"}],\"heatmapgl\":[{\"colorbar\":{\"outlinewidth\":0,\"ticks\":\"\"},\"colorscale\":[[0.0,\"#0d0887\"],[0.1111111111111111,\"#46039f\"],[0.2222222222222222,\"#7201a8\"],[0.3333333333333333,\"#9c179e\"],[0.4444444444444444,\"#bd3786\"],[0.5555555555555556,\"#d8576b\"],[0.6666666666666666,\"#ed7953\"],[0.7777777777777778,\"#fb9f3a\"],[0.8888888888888888,\"#fdca26\"],[1.0,\"#f0f921\"]],\"type\":\"heatmapgl\"}],\"heatmap\":[{\"colorbar\":{\"outlinewidth\":0,\"ticks\":\"\"},\"colorscale\":[[0.0,\"#0d0887\"],[0.1111111111111111,\"#46039f\"],[0.2222222222222222,\"#7201a8\"],[0.3333333333333333,\"#9c179e\"],[0.4444444444444444,\"#bd3786\"],[0.5555555555555556,\"#d8576b\"],[0.6666666666666666,\"#ed7953\"],[0.7777777777777778,\"#fb9f3a\"],[0.8888888888888888,\"#fdca26\"],[1.0,\"#f0f921\"]],\"type\":\"heatmap\"}],\"histogram2dcontour\":[{\"colorbar\":{\"outlinewidth\":0,\"ticks\":\"\"},\"colorscale\":[[0.0,\"#0d0887\"],[0.1111111111111111,\"#46039f\"],[0.2222222222222222,\"#7201a8\"],[0.3333333333333333,\"#9c179e\"],[0.4444444444444444,\"#bd3786\"],[0.5555555555555556,\"#d8576b\"],[0.6666666666666666,\"#ed7953\"],[0.7777777777777778,\"#fb9f3a\"],[0.8888888888888888,\"#fdca26\"],[1.0,\"#f0f921\"]],\"type\":\"histogram2dcontour\"}],\"histogram2d\":[{\"colorbar\":{\"outlinewidth\":0,\"ticks\":\"\"},\"colorscale\":[[0.0,\"#0d0887\"],[0.1111111111111111,\"#46039f\"],[0.2222222222222222,\"#7201a8\"],[0.3333333333333333,\"#9c179e\"],[0.4444444444444444,\"#bd3786\"],[0.5555555555555556,\"#d8576b\"],[0.6666666666666666,\"#ed7953\"],[0.7777777777777778,\"#fb9f3a\"],[0.8888888888888888,\"#fdca26\"],[1.0,\"#f0f921\"]],\"type\":\"histogram2d\"}],\"histogram\":[{\"marker\":{\"pattern\":{\"fillmode\":\"overlay\",\"size\":10,\"solidity\":0.2}},\"type\":\"histogram\"}],\"mesh3d\":[{\"colorbar\":{\"outlinewidth\":0,\"ticks\":\"\"},\"type\":\"mesh3d\"}],\"parcoords\":[{\"line\":{\"colorbar\":{\"outlinewidth\":0,\"ticks\":\"\"}},\"type\":\"parcoords\"}],\"pie\":[{\"automargin\":true,\"type\":\"pie\"}],\"scatter3d\":[{\"line\":{\"colorbar\":{\"outlinewidth\":0,\"ticks\":\"\"}},\"marker\":{\"colorbar\":{\"outlinewidth\":0,\"ticks\":\"\"}},\"type\":\"scatter3d\"}],\"scattercarpet\":[{\"marker\":{\"colorbar\":{\"outlinewidth\":0,\"ticks\":\"\"}},\"type\":\"scattercarpet\"}],\"scattergeo\":[{\"marker\":{\"colorbar\":{\"outlinewidth\":0,\"ticks\":\"\"}},\"type\":\"scattergeo\"}],\"scattergl\":[{\"marker\":{\"colorbar\":{\"outlinewidth\":0,\"ticks\":\"\"}},\"type\":\"scattergl\"}],\"scattermapbox\":[{\"marker\":{\"colorbar\":{\"outlinewidth\":0,\"ticks\":\"\"}},\"type\":\"scattermapbox\"}],\"scatterpolargl\":[{\"marker\":{\"colorbar\":{\"outlinewidth\":0,\"ticks\":\"\"}},\"type\":\"scatterpolargl\"}],\"scatterpolar\":[{\"marker\":{\"colorbar\":{\"outlinewidth\":0,\"ticks\":\"\"}},\"type\":\"scatterpolar\"}],\"scatter\":[{\"marker\":{\"colorbar\":{\"outlinewidth\":0,\"ticks\":\"\"}},\"type\":\"scatter\"}],\"scatterternary\":[{\"marker\":{\"colorbar\":{\"outlinewidth\":0,\"ticks\":\"\"}},\"type\":\"scatterternary\"}],\"surface\":[{\"colorbar\":{\"outlinewidth\":0,\"ticks\":\"\"},\"colorscale\":[[0.0,\"#0d0887\"],[0.1111111111111111,\"#46039f\"],[0.2222222222222222,\"#7201a8\"],[0.3333333333333333,\"#9c179e\"],[0.4444444444444444,\"#bd3786\"],[0.5555555555555556,\"#d8576b\"],[0.6666666666666666,\"#ed7953\"],[0.7777777777777778,\"#fb9f3a\"],[0.8888888888888888,\"#fdca26\"],[1.0,\"#f0f921\"]],\"type\":\"surface\"}],\"table\":[{\"cells\":{\"fill\":{\"color\":\"#EBF0F8\"},\"line\":{\"color\":\"white\"}},\"header\":{\"fill\":{\"color\":\"#C8D4E3\"},\"line\":{\"color\":\"white\"}},\"type\":\"table\"}]},\"layout\":{\"annotationdefaults\":{\"arrowcolor\":\"#2a3f5f\",\"arrowhead\":0,\"arrowwidth\":1},\"autotypenumbers\":\"strict\",\"coloraxis\":{\"colorbar\":{\"outlinewidth\":0,\"ticks\":\"\"}},\"colorscale\":{\"diverging\":[[0,\"#8e0152\"],[0.1,\"#c51b7d\"],[0.2,\"#de77ae\"],[0.3,\"#f1b6da\"],[0.4,\"#fde0ef\"],[0.5,\"#f7f7f7\"],[0.6,\"#e6f5d0\"],[0.7,\"#b8e186\"],[0.8,\"#7fbc41\"],[0.9,\"#4d9221\"],[1,\"#276419\"]],\"sequential\":[[0.0,\"#0d0887\"],[0.1111111111111111,\"#46039f\"],[0.2222222222222222,\"#7201a8\"],[0.3333333333333333,\"#9c179e\"],[0.4444444444444444,\"#bd3786\"],[0.5555555555555556,\"#d8576b\"],[0.6666666666666666,\"#ed7953\"],[0.7777777777777778,\"#fb9f3a\"],[0.8888888888888888,\"#fdca26\"],[1.0,\"#f0f921\"]],\"sequentialminus\":[[0.0,\"#0d0887\"],[0.1111111111111111,\"#46039f\"],[0.2222222222222222,\"#7201a8\"],[0.3333333333333333,\"#9c179e\"],[0.4444444444444444,\"#bd3786\"],[0.5555555555555556,\"#d8576b\"],[0.6666666666666666,\"#ed7953\"],[0.7777777777777778,\"#fb9f3a\"],[0.8888888888888888,\"#fdca26\"],[1.0,\"#f0f921\"]]},\"colorway\":[\"#636efa\",\"#EF553B\",\"#00cc96\",\"#ab63fa\",\"#FFA15A\",\"#19d3f3\",\"#FF6692\",\"#B6E880\",\"#FF97FF\",\"#FECB52\"],\"font\":{\"color\":\"#2a3f5f\"},\"geo\":{\"bgcolor\":\"white\",\"lakecolor\":\"white\",\"landcolor\":\"#E5ECF6\",\"showlakes\":true,\"showland\":true,\"subunitcolor\":\"white\"},\"hoverlabel\":{\"align\":\"left\"},\"hovermode\":\"closest\",\"mapbox\":{\"style\":\"light\"},\"paper_bgcolor\":\"white\",\"plot_bgcolor\":\"#E5ECF6\",\"polar\":{\"angularaxis\":{\"gridcolor\":\"white\",\"linecolor\":\"white\",\"ticks\":\"\"},\"bgcolor\":\"#E5ECF6\",\"radialaxis\":{\"gridcolor\":\"white\",\"linecolor\":\"white\",\"ticks\":\"\"}},\"scene\":{\"xaxis\":{\"backgroundcolor\":\"#E5ECF6\",\"gridcolor\":\"white\",\"gridwidth\":2,\"linecolor\":\"white\",\"showbackground\":true,\"ticks\":\"\",\"zerolinecolor\":\"white\"},\"yaxis\":{\"backgroundcolor\":\"#E5ECF6\",\"gridcolor\":\"white\",\"gridwidth\":2,\"linecolor\":\"white\",\"showbackground\":true,\"ticks\":\"\",\"zerolinecolor\":\"white\"},\"zaxis\":{\"backgroundcolor\":\"#E5ECF6\",\"gridcolor\":\"white\",\"gridwidth\":2,\"linecolor\":\"white\",\"showbackground\":true,\"ticks\":\"\",\"zerolinecolor\":\"white\"}},\"shapedefaults\":{\"line\":{\"color\":\"#2a3f5f\"}},\"ternary\":{\"aaxis\":{\"gridcolor\":\"white\",\"linecolor\":\"white\",\"ticks\":\"\"},\"baxis\":{\"gridcolor\":\"white\",\"linecolor\":\"white\",\"ticks\":\"\"},\"bgcolor\":\"#E5ECF6\",\"caxis\":{\"gridcolor\":\"white\",\"linecolor\":\"white\",\"ticks\":\"\"}},\"title\":{\"x\":0.05},\"xaxis\":{\"automargin\":true,\"gridcolor\":\"white\",\"linecolor\":\"white\",\"ticks\":\"\",\"title\":{\"standoff\":15},\"zerolinecolor\":\"white\",\"zerolinewidth\":2},\"yaxis\":{\"automargin\":true,\"gridcolor\":\"white\",\"linecolor\":\"white\",\"ticks\":\"\",\"title\":{\"standoff\":15},\"zerolinecolor\":\"white\",\"zerolinewidth\":2}}},\"title\":{\"text\":\"Word Count Plots\"},\"width\":1100,\"xaxis\":{\"anchor\":\"y\",\"domain\":[0.0,0.2888888888888889]},\"yaxis\":{\"anchor\":\"x\",\"domain\":[0.0,1.0]},\"xaxis2\":{\"anchor\":\"y2\",\"domain\":[0.35555555555555557,0.6444444444444445]},\"yaxis2\":{\"anchor\":\"x2\",\"domain\":[0.0,1.0]},\"xaxis3\":{\"anchor\":\"y3\",\"domain\":[0.7111111111111111,1.0]},\"yaxis3\":{\"anchor\":\"x3\",\"domain\":[0.0,1.0]}},                        {\"responsive\": true}                    ).then(function(){\n",
              "                            \n",
              "var gd = document.getElementById('f549e00a-2d89-4cd1-adf3-8e23c409878c');\n",
              "var x = new MutationObserver(function (mutations, observer) {{\n",
              "        var display = window.getComputedStyle(gd).display;\n",
              "        if (!display || display === 'none') {{\n",
              "            console.log([gd, 'removed!']);\n",
              "            Plotly.purge(gd);\n",
              "            observer.disconnect();\n",
              "        }}\n",
              "}});\n",
              "\n",
              "// Listen for the removal of the full notebook cells\n",
              "var notebookContainer = gd.closest('#notebook-container');\n",
              "if (notebookContainer) {{\n",
              "    x.observe(notebookContainer, {childList: true});\n",
              "}}\n",
              "\n",
              "// Listen for the clearing of the current output cell\n",
              "var outputEl = gd.closest('.output');\n",
              "if (outputEl) {{\n",
              "    x.observe(outputEl, {childList: true});\n",
              "}}\n",
              "\n",
              "                        })                };                            </script>        </div>\n",
              "</body>\n",
              "</html>"
            ]
          },
          "metadata": {}
        }
      ]
    },
    {
      "cell_type": "markdown",
      "source": [
        "#### Frecuencia de palabras\n",
        "se puede ver que la palabra más usadas por idioma son:\n",
        "- `Ingles`: bbk\n",
        "- `Español`: digital\n",
        "- `Euskera`: eta\n",
        "\n",
        "se puede ver que en euskera que la palabra mas usada  es eta que en español significaria y , esto se debe a que no se puedo usar stopwords a los tweets en euskera."
      ],
      "metadata": {
        "id": "zs0VFBSL4TMC"
      }
    },
    {
      "cell_type": "code",
      "source": [
        "df_para_cor=df.drop(['id','polarity'],axis=1)"
      ],
      "metadata": {
        "id": "VCJCiTRDIuR3"
      },
      "execution_count": 327,
      "outputs": []
    },
    {
      "cell_type": "code",
      "source": [
        "sns.heatmap(df_para_cor.corr(),annot=True)"
      ],
      "metadata": {
        "colab": {
          "base_uri": "https://localhost:8080/",
          "height": 414
        },
        "id": "xfhmEX6ROz49",
        "outputId": "88f30276-6245-4d02-905a-f1f99eb508b3"
      },
      "execution_count": 328,
      "outputs": [
        {
          "output_type": "execute_result",
          "data": {
            "text/plain": [
              "<AxesSubplot:>"
            ]
          },
          "metadata": {},
          "execution_count": 328
        },
        {
          "output_type": "display_data",
          "data": {
            "text/plain": [
              "<Figure size 432x288 with 2 Axes>"
            ],
            "image/png": "[encoded data removed]"
          },
          "metadata": {}
        }
      ]
    },
    {
      "cell_type": "markdown",
      "source": [
        "#### Gráfico de correlaciones\n",
        "En este grafico podemos  ver que entre todas la variables que pertenecen a metrics existe una gran correlacion siendo la menor de `0.45` y como el numero de plabras no influye en las metricassiendo la mayor de `0.1`"
      ],
      "metadata": {
        "id": "4pH5hQ7r2Rou"
      }
    },
    {
      "cell_type": "markdown",
      "source": [
        "## Modelo preentrenado Textblob\n"
      ],
      "metadata": {
        "id": "5pOnmRHtsKZc"
      }
    },
    {
      "cell_type": "code",
      "source": [
        "\n",
        "def get_polarity(text):\n",
        "  return TextBlob(text).sentiment.polarity\n",
        "\n",
        "polaridad_es=[]\n",
        "polaridad_en=[]\n",
        "polaridad_ek=[]\n",
        "\n",
        "\n",
        "for i in df.loc[df['lenguage'].isin(['es']), 'text_change']:\n",
        "  polaridad=get_polarity(i)\n",
        "  polaridad_es.append(polaridad)\n",
        "\n",
        "for i in df.loc[df['lenguage'].isin(['en']), 'text_change']:\n",
        "  polaridad=get_polarity(i)\n",
        "  polaridad_en.append(polaridad)\n",
        "\n",
        "for i in df.loc[df['lenguage'].isin(['ek']), 'text_change']:\n",
        "  polaridad=get_polarity(i)\n",
        "  polaridad_ek.append(polaridad)"
      ],
      "metadata": {
        "id": "2bEJ8g-tNVKh"
      },
      "execution_count": 356,
      "outputs": []
    },
    {
      "cell_type": "code",
      "source": [
        "from pandas.io.formats.format import DataFrameRenderer\n",
        "\n",
        "# ESPAÑOL\n",
        "df.loc[df['lenguage'] == 'es', 'polarity'] = polaridad_es\n",
        "\n",
        "sentimiento_es=[]\n",
        "for a in polaridad_es:\n",
        "  if a <0:\n",
        "    sentimiento_es.append('Negative')\n",
        "  elif a == 0 :\n",
        "    sentimiento_es.append('Neutral')\n",
        "  else:\n",
        "    sentimiento_es.append('Positive')\n",
        "df.loc[df['lenguage'] == 'es', 'Sentiment']= sentimiento_es\n",
        "\n",
        "# INGLES\n",
        "df.loc[df['lenguage'] == 'en', 'polarity'] = polaridad_en\n",
        "\n",
        "sentimiento_en=[]\n",
        "for a in polaridad_en:\n",
        "  if a <0:\n",
        "    sentimiento_en.append('Negative')\n",
        "  elif a == 0 :\n",
        "    sentimiento_en.append('Neutral')\n",
        "  else:\n",
        "    sentimiento_en.append('Positive')\n",
        "df.loc[df['lenguage'] == 'en', 'Sentiment']= sentimiento_en\n",
        "\n",
        "# EUSKERA\n",
        "df.loc[df['lenguage'] == 'ek', 'polarity'] = polaridad_ek\n",
        "\n",
        "sentimiento_ek=[]\n",
        "for a in polaridad_ek:\n",
        "  if a <0:\n",
        "    sentimiento_ek.append('Negative')\n",
        "  elif a == 0 :\n",
        "    sentimiento_ek.append('Neutral')\n",
        "  else:\n",
        "    sentimiento_ek.append('Positive')\n",
        "df.loc[df['lenguage'] == 'ek', 'Sentiment']= sentimiento_ek"
      ],
      "metadata": {
        "id": "2QWVX6gRZnI0"
      },
      "execution_count": 357,
      "outputs": []
    },
    {
      "cell_type": "code",
      "source": [
        "df.head()"
      ],
      "metadata": {
        "colab": {
          "base_uri": "https://localhost:8080/",
          "height": 1000
        },
        "id": "9XZ9N1NGiSvE",
        "outputId": "9f62cc8b-0412-434a-8041-9d51513d0cad"
      },
      "execution_count": 358,
      "outputs": [
        {
          "output_type": "execute_result",
          "data": {
            "text/plain": [
              "                                      id  \\\n",
              "date_time                                  \n",
              "2022-11-22 08:01:31   702077405045899264   \n",
              "2022-11-22 08:05:10   702077405045899264   \n",
              "2022-11-22 08:18:42   783248945761910788   \n",
              "2022-11-23 10:13:36  1162694149956603904   \n",
              "2022-11-24 12:15:15   823470817963032576   \n",
              "\n",
              "                                                                                                                                                                                                                                                                                                                                text  \\\n",
              "date_time                                                                                                                                                                                                                                                                                                                              \n",
              "2022-11-22 08:01:31                                          Aprende hoy las profesiones del futuro, ¡inscríbete en el #BBKBootcamp ⏩ https://t.co/uJcCKObkPz\\n\\nJunto con @TheBridge_Tech podrás aprender sobre Desarrollo Web Full Stack, Data Science, Ciberseguridad y Diseño de producto digital UX UI. https://t.co/wdbmRphsAx   \n",
              "2022-11-22 08:05:10                         Ikasi gaur etorkizuneko lanbideak, izena eman #BBKBootcamp -ean ⏩ https://t.co/xvm6ekbcMQ\\n\\n@TheBridge_Tech -ekin batera,  Full Stack Web Garapena, Data Science, Zibersegurtasuna eta UX UI produktu digitalaren diseinuari buruz ikasteko aukera izango duzu. https://t.co/oxEOX35Osa   \n",
              "2022-11-22 08:18:42   Acelerando juntos el #talentodigital en España. El próximo 24 de noviembre, nuestro #CEO Juan Zamora presentará Hopla! en las instalaciones de .@TheBridge_Tech a las 17:30h. Contaremos quiénes somos, qué hacemos y cómo desarrollar una #carrerarofesional fructífera con nosotros. https://t.co/Sw9EUswIQ2   \n",
              "2022-11-23 10:13:36  ¡Ven a conocer los BBK bootcamps powered by @TheBridge_Tech! @BBK_eus \\n\\nPróximo Open Day🤗\\n📅1 dic\\n⏰18.30\\n📍 @BBK_Kuna, Urazurrutia Kalea 3, Bilbao\\n\\n¡Lánzate a por una carrera digital!\\n \\n🎟Entradas https://t.co/NBgXWjSYcE\\n\\n#uxui #ciber #desarrollowebfullstack #datascience https://t.co/KFsgFfom5B   \n",
              "2022-11-24 12:15:15                     🔵Acelera tu carrera digital con #BBKBootcamps.\\n\\nGracias a la colaboración entre @BBK_eus y @TheBridge_Tech podrás formarte con los mejores profesionales para lograr un trabajo con proyección.\\n\\n🔗Elige tu curso https://t.co/RxICpzj9N6\\n\\n#ux #developers #ciberseguridad #datascience   \n",
              "\n",
              "                     impression_count  like_count  quote_count  reply_count  \\\n",
              "date_time                                                                     \n",
              "2022-11-22 08:01:31                 0           2            0            0   \n",
              "2022-11-22 08:05:10                 0           2            0            0   \n",
              "2022-11-22 08:18:42                 0           3            0            1   \n",
              "2022-11-23 10:13:36                 0           3            0            0   \n",
              "2022-11-24 12:15:15                 0           4            0            0   \n",
              "\n",
              "                     retweet_count                         name  \\\n",
              "date_time                                                         \n",
              "2022-11-22 08:01:31              2  Fundación BBK | Obra Social   \n",
              "2022-11-22 08:05:10              1  Fundación BBK | Obra Social   \n",
              "2022-11-22 08:18:42              1              Hopla! Software   \n",
              "2022-11-23 10:13:36              4                   The Bridge   \n",
              "2022-11-24 12:15:15              3                  BBK network   \n",
              "\n",
              "                           username    Month  \\\n",
              "date_time                                      \n",
              "2022-11-22 08:01:31         BBK_eus  2022-11   \n",
              "2022-11-22 08:05:10         BBK_eus  2022-11   \n",
              "2022-11-22 08:18:42   HoplaSoftware  2022-11   \n",
              "2022-11-23 10:13:36  TheBridge_Tech  2022-11   \n",
              "2022-11-24 12:15:15      BBKnetwork  2022-11   \n",
              "\n",
              "                                                                                                                                                                                                               text_change  \\\n",
              "date_time                                                                                                                                                                                                                    \n",
              "2022-11-22 08:01:31                                                   aprende hoy profesiones futuro ¡inscríbete junto podrás aprender desarrollo web full stack data science ciberseguridad diseño producto digital ux ui   \n",
              "2022-11-22 08:05:10  ikasi gaur etorkizuneko lanbideak izena eman  -ean   -ekin batera  full stack web garapena data science zibersegurtasuna eta ux ui produktu digitalaren diseinuari buruz ikasteko aukera izango duzu    \n",
              "2022-11-22 08:18:42                                                         acelerando juntos españa próximo noviembre juan zamora presentará hopla instalaciones h contaremos quiénes hacemos cómo desarrollar fructífera   \n",
              "2022-11-23 10:13:36                                                                                   ¡ven conocer bbk bootcamps powered by próximo open day dic urazurrutia kalea bilbao¡lánzate carrera digital entradas   \n",
              "2022-11-24 12:15:15                                                                                acelera carrera digital gracias colaboración podrás formarte mejores profesionales lograr trabajo proyecciónelige curso   \n",
              "\n",
              "                    lenguage  word_count  polarity Sentiment  \n",
              "date_time                                                     \n",
              "2022-11-22 08:01:31       es          43     0.175  Positive  \n",
              "2022-11-22 08:05:10       ek          43     0.350  Positive  \n",
              "2022-11-22 08:18:42       es          52     0.000   Neutral  \n",
              "2022-11-23 10:13:36       es          50     0.000   Neutral  \n",
              "2022-11-24 12:15:15       es          45     0.000   Neutral  "
            ],
            "text/html": [
              "\n",
              "  <div id=\"df-76ef1a93-6072-41a0-80c2-e413c7520a68\">\n",
              "    <div class=\"colab-df-container\">\n",
              "      <div>\n",
              "<style scoped>\n",
              "    .dataframe tbody tr th:only-of-type {\n",
              "        vertical-align: middle;\n",
              "    }\n",
              "\n",
              "    .dataframe tbody tr th {\n",
              "        vertical-align: top;\n",
              "    }\n",
              "\n",
              "    .dataframe thead th {\n",
              "        text-align: right;\n",
              "    }\n",
              "</style>\n",
              "<table border=\"1\" class=\"dataframe\">\n",
              "  <thead>\n",
              "    <tr style=\"text-align: right;\">\n",
              "      <th></th>\n",
              "      <th>id</th>\n",
              "      <th>text</th>\n",
              "      <th>impression_count</th>\n",
              "      <th>like_count</th>\n",
              "      <th>quote_count</th>\n",
              "      <th>reply_count</th>\n",
              "      <th>retweet_count</th>\n",
              "      <th>name</th>\n",
              "      <th>username</th>\n",
              "      <th>Month</th>\n",
              "      <th>text_change</th>\n",
              "      <th>lenguage</th>\n",
              "      <th>word_count</th>\n",
              "      <th>polarity</th>\n",
              "      <th>Sentiment</th>\n",
              "    </tr>\n",
              "    <tr>\n",
              "      <th>date_time</th>\n",
              "      <th></th>\n",
              "      <th></th>\n",
              "      <th></th>\n",
              "      <th></th>\n",
              "      <th></th>\n",
              "      <th></th>\n",
              "      <th></th>\n",
              "      <th></th>\n",
              "      <th></th>\n",
              "      <th></th>\n",
              "      <th></th>\n",
              "      <th></th>\n",
              "      <th></th>\n",
              "      <th></th>\n",
              "      <th></th>\n",
              "    </tr>\n",
              "  </thead>\n",
              "  <tbody>\n",
              "    <tr>\n",
              "      <th>2022-11-22 08:01:31</th>\n",
              "      <td>702077405045899264</td>\n",
              "      <td>Aprende hoy las profesiones del futuro, ¡inscríbete en el #BBKBootcamp ⏩ https://t.co/uJcCKObkPz\\n\\nJunto con @TheBridge_Tech podrás aprender sobre Desarrollo Web Full Stack, Data Science, Ciberseguridad y Diseño de producto digital UX UI. https://t.co/wdbmRphsAx</td>\n",
              "      <td>0</td>\n",
              "      <td>2</td>\n",
              "      <td>0</td>\n",
              "      <td>0</td>\n",
              "      <td>2</td>\n",
              "      <td>Fundación BBK | Obra Social</td>\n",
              "      <td>BBK_eus</td>\n",
              "      <td>2022-11</td>\n",
              "      <td>aprende hoy profesiones futuro ¡inscríbete junto podrás aprender desarrollo web full stack data science ciberseguridad diseño producto digital ux ui</td>\n",
              "      <td>es</td>\n",
              "      <td>43</td>\n",
              "      <td>0.175</td>\n",
              "      <td>Positive</td>\n",
              "    </tr>\n",
              "    <tr>\n",
              "      <th>2022-11-22 08:05:10</th>\n",
              "      <td>702077405045899264</td>\n",
              "      <td>Ikasi gaur etorkizuneko lanbideak, izena eman #BBKBootcamp -ean ⏩ https://t.co/xvm6ekbcMQ\\n\\n@TheBridge_Tech -ekin batera,  Full Stack Web Garapena, Data Science, Zibersegurtasuna eta UX UI produktu digitalaren diseinuari buruz ikasteko aukera izango duzu. https://t.co/oxEOX35Osa</td>\n",
              "      <td>0</td>\n",
              "      <td>2</td>\n",
              "      <td>0</td>\n",
              "      <td>0</td>\n",
              "      <td>1</td>\n",
              "      <td>Fundación BBK | Obra Social</td>\n",
              "      <td>BBK_eus</td>\n",
              "      <td>2022-11</td>\n",
              "      <td>ikasi gaur etorkizuneko lanbideak izena eman  -ean   -ekin batera  full stack web garapena data science zibersegurtasuna eta ux ui produktu digitalaren diseinuari buruz ikasteko aukera izango duzu</td>\n",
              "      <td>ek</td>\n",
              "      <td>43</td>\n",
              "      <td>0.350</td>\n",
              "      <td>Positive</td>\n",
              "    </tr>\n",
              "    <tr>\n",
              "      <th>2022-11-22 08:18:42</th>\n",
              "      <td>783248945761910788</td>\n",
              "      <td>Acelerando juntos el #talentodigital en España. El próximo 24 de noviembre, nuestro #CEO Juan Zamora presentará Hopla! en las instalaciones de .@TheBridge_Tech a las 17:30h. Contaremos quiénes somos, qué hacemos y cómo desarrollar una #carrerarofesional fructífera con nosotros. https://t.co/Sw9EUswIQ2</td>\n",
              "      <td>0</td>\n",
              "      <td>3</td>\n",
              "      <td>0</td>\n",
              "      <td>1</td>\n",
              "      <td>1</td>\n",
              "      <td>Hopla! Software</td>\n",
              "      <td>HoplaSoftware</td>\n",
              "      <td>2022-11</td>\n",
              "      <td>acelerando juntos españa próximo noviembre juan zamora presentará hopla instalaciones h contaremos quiénes hacemos cómo desarrollar fructífera</td>\n",
              "      <td>es</td>\n",
              "      <td>52</td>\n",
              "      <td>0.000</td>\n",
              "      <td>Neutral</td>\n",
              "    </tr>\n",
              "    <tr>\n",
              "      <th>2022-11-23 10:13:36</th>\n",
              "      <td>1162694149956603904</td>\n",
              "      <td>¡Ven a conocer los BBK bootcamps powered by @TheBridge_Tech! @BBK_eus \\n\\nPróximo Open Day🤗\\n📅1 dic\\n⏰18.30\\n📍 @BBK_Kuna, Urazurrutia Kalea 3, Bilbao\\n\\n¡Lánzate a por una carrera digital!\\n \\n🎟Entradas https://t.co/NBgXWjSYcE\\n\\n#uxui #ciber #desarrollowebfullstack #datascience https://t.co/KFsgFfom5B</td>\n",
              "      <td>0</td>\n",
              "      <td>3</td>\n",
              "      <td>0</td>\n",
              "      <td>0</td>\n",
              "      <td>4</td>\n",
              "      <td>The Bridge</td>\n",
              "      <td>TheBridge_Tech</td>\n",
              "      <td>2022-11</td>\n",
              "      <td>¡ven conocer bbk bootcamps powered by próximo open day dic urazurrutia kalea bilbao¡lánzate carrera digital entradas</td>\n",
              "      <td>es</td>\n",
              "      <td>50</td>\n",
              "      <td>0.000</td>\n",
              "      <td>Neutral</td>\n",
              "    </tr>\n",
              "    <tr>\n",
              "      <th>2022-11-24 12:15:15</th>\n",
              "      <td>823470817963032576</td>\n",
              "      <td>🔵Acelera tu carrera digital con #BBKBootcamps.\\n\\nGracias a la colaboración entre @BBK_eus y @TheBridge_Tech podrás formarte con los mejores profesionales para lograr un trabajo con proyección.\\n\\n🔗Elige tu curso https://t.co/RxICpzj9N6\\n\\n#ux #developers #ciberseguridad #datascience</td>\n",
              "      <td>0</td>\n",
              "      <td>4</td>\n",
              "      <td>0</td>\n",
              "      <td>0</td>\n",
              "      <td>3</td>\n",
              "      <td>BBK network</td>\n",
              "      <td>BBKnetwork</td>\n",
              "      <td>2022-11</td>\n",
              "      <td>acelera carrera digital gracias colaboración podrás formarte mejores profesionales lograr trabajo proyecciónelige curso</td>\n",
              "      <td>es</td>\n",
              "      <td>45</td>\n",
              "      <td>0.000</td>\n",
              "      <td>Neutral</td>\n",
              "    </tr>\n",
              "  </tbody>\n",
              "</table>\n",
              "</div>\n",
              "      <button class=\"colab-df-convert\" onclick=\"convertToInteractive('df-76ef1a93-6072-41a0-80c2-e413c7520a68')\"\n",
              "              title=\"Convert this dataframe to an interactive table.\"\n",
              "              style=\"display:none;\">\n",
              "        \n",
              "  <svg xmlns=\"http://www.w3.org/2000/svg\" height=\"24px\"viewBox=\"0 0 24 24\"\n",
              "       width=\"24px\">\n",
              "    <path d=\"M0 0h24v24H0V0z\" fill=\"none\"/>\n",
              "    <path d=\"M18.56 5.44l.94 2.06.94-2.06 2.06-.94-2.06-.94-.94-2.06-.94 2.06-2.06.94zm-11 1L8.5 8.5l.94-2.06 2.06-.94-2.06-.94L8.5 2.5l-.94 2.06-2.06.94zm10 10l.94 2.06.94-2.06 2.06-.94-2.06-.94-.94-2.06-.94 2.06-2.06.94z\"/><path d=\"M17.41 7.96l-1.37-1.37c-.4-.4-.92-.59-1.43-.59-.52 0-1.04.2-1.43.59L10.3 9.45l-7.72 7.72c-.78.78-.78 2.05 0 2.83L4 21.41c.39.39.9.59 1.41.59.51 0 1.02-.2 1.41-.59l7.78-7.78 2.81-2.81c.8-.78.8-2.07 0-2.86zM5.41 20L4 18.59l7.72-7.72 1.47 1.35L5.41 20z\"/>\n",
              "  </svg>\n",
              "      </button>\n",
              "      \n",
              "  <style>\n",
              "    .colab-df-container {\n",
              "      display:flex;\n",
              "      flex-wrap:wrap;\n",
              "      gap: 12px;\n",
              "    }\n",
              "\n",
              "    .colab-df-convert {\n",
              "      background-color: #E8F0FE;\n",
              "      border: none;\n",
              "      border-radius: 50%;\n",
              "      cursor: pointer;\n",
              "      display: none;\n",
              "      fill: #1967D2;\n",
              "      height: 32px;\n",
              "      padding: 0 0 0 0;\n",
              "      width: 32px;\n",
              "    }\n",
              "\n",
              "    .colab-df-convert:hover {\n",
              "      background-color: #E2EBFA;\n",
              "      box-shadow: 0px 1px 2px rgba(60, 64, 67, 0.3), 0px 1px 3px 1px rgba(60, 64, 67, 0.15);\n",
              "      fill: #174EA6;\n",
              "    }\n",
              "\n",
              "    [theme=dark] .colab-df-convert {\n",
              "      background-color: #3B4455;\n",
              "      fill: #D2E3FC;\n",
              "    }\n",
              "\n",
              "    [theme=dark] .colab-df-convert:hover {\n",
              "      background-color: #434B5C;\n",
              "      box-shadow: 0px 1px 3px 1px rgba(0, 0, 0, 0.15);\n",
              "      filter: drop-shadow(0px 1px 2px rgba(0, 0, 0, 0.3));\n",
              "      fill: #FFFFFF;\n",
              "    }\n",
              "  </style>\n",
              "\n",
              "      <script>\n",
              "        const buttonEl =\n",
              "          document.querySelector('#df-76ef1a93-6072-41a0-80c2-e413c7520a68 button.colab-df-convert');\n",
              "        buttonEl.style.display =\n",
              "          google.colab.kernel.accessAllowed ? 'block' : 'none';\n",
              "\n",
              "        async function convertToInteractive(key) {\n",
              "          const element = document.querySelector('#df-76ef1a93-6072-41a0-80c2-e413c7520a68');\n",
              "          const dataTable =\n",
              "            await google.colab.kernel.invokeFunction('convertToInteractive',\n",
              "                                                     [key], {});\n",
              "          if (!dataTable) return;\n",
              "\n",
              "          const docLinkHtml = 'Like what you see? Visit the ' +\n",
              "            '<a target=\"_blank\" href=https://colab.research.google.com/notebooks/data_table.ipynb>data table notebook</a>'\n",
              "            + ' to learn more about interactive tables.';\n",
              "          element.innerHTML = '';\n",
              "          dataTable['output_type'] = 'display_data';\n",
              "          await google.colab.output.renderOutput(dataTable, element);\n",
              "          const docLink = document.createElement('div');\n",
              "          docLink.innerHTML = docLinkHtml;\n",
              "          element.appendChild(docLink);\n",
              "        }\n",
              "      </script>\n",
              "    </div>\n",
              "  </div>\n",
              "  "
            ]
          },
          "metadata": {},
          "execution_count": 358
        }
      ]
    },
    {
      "cell_type": "code",
      "source": [
        "sns.countplot(x=\"Sentiment\", data=df, palette='muted')"
      ],
      "metadata": {
        "colab": {
          "base_uri": "https://localhost:8080/",
          "height": 322
        },
        "id": "IXjKQYr6qA8_",
        "outputId": "27b88a8c-1787-4e8b-b57b-949382cd1e73"
      },
      "execution_count": 359,
      "outputs": [
        {
          "output_type": "execute_result",
          "data": {
            "text/plain": [
              "<AxesSubplot:xlabel='Sentiment', ylabel='count'>"
            ]
          },
          "metadata": {},
          "execution_count": 359
        },
        {
          "output_type": "display_data",
          "data": {
            "text/plain": [
              "<Figure size 432x288 with 1 Axes>"
            ],
            "image/png": "[encoded data removed]"
          },
          "metadata": {}
        }
      ]
    },
    {
      "cell_type": "markdown",
      "source": [
        "#### Prediccion de sentimientos\n",
        "Podemos ver como el sentimiento que resalta más es el neutral, y como el siguiente a este es el positivo. Esto se puede deber a que antes que ser tweets en donde se habla del bootcamp son tweets publicitarios en donde solo se brinda informacion de los cursos."
      ],
      "metadata": {
        "id": "f0Pcd5Ql83S9"
      }
    }
  ]
}